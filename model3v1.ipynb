{
 "cells": [
  {
   "cell_type": "code",
   "execution_count": 1,
   "metadata": {
    "collapsed": true
   },
   "outputs": [],
   "source": [
    "import sys, os, _pickle as pickle\n",
    "import tensorflow as tf\n",
    "import numpy as np\n",
    "import nltk\n",
    "from sklearn.metrics import f1_score\n",
    "\n",
    "data_dir = 'data'\n",
    "ckpt_dir = 'checkpoint'\n",
    "word_embd_dir = 'checkpoint/word_embd'\n",
    "model_dir = 'checkpoint/model3v1'\n",
    "\n",
    "word_embd_dim = 100\n",
    "pos_embd_dim = 25\n",
    "dep_embd_dim = 25\n",
    "word_vocab_size = 400001\n",
    "pos_vocab_size = 10\n",
    "dep_vocab_size = 21\n",
    "relation_classes = 19\n",
    "state_size = 100\n",
    "batch_size = 10\n",
    "channels = 3\n",
    "lambda_l2 = 0.0001\n",
    "max_len_path = 70\n",
    "starter_learning_rate = 0.001\n",
    "decay_steps = 2000\n",
    "decay_rate = 0.96"
   ]
  },
  {
   "cell_type": "code",
   "execution_count": 2,
   "metadata": {
    "collapsed": true
   },
   "outputs": [],
   "source": [
    "with tf.name_scope(\"input\"):\n",
    "    fp_length = tf.placeholder(tf.int32, shape=[batch_size], name=\"fp_ength\")\n",
    "    fp = tf.placeholder(tf.int32, [2, batch_size, max_len_path], name=\"full_path\")\n",
    "    sp_length = tf.placeholder(tf.int32, shape=[batch_size, 2], name=\"sp_length\")\n",
    "    sp = tf.placeholder(tf.int32, [batch_size, 2, None], name=\"shortest_path\")\n",
    "    sp_pos = tf.placeholder(tf.int32, [batch_size, 2, None], name=\"sp_pos\")\n",
    "    sp_childs = tf.placeholder(tf.int32, [batch_size, 2, None, None], name=\"sp_childs\")\n",
    "    relation = tf.placeholder(tf.int32, [batch_size], name=\"relation\")\n",
    "    y_entity = tf.placeholder(tf.int32, [batch_size, None], name=\"y_enity\")\n",
    "\n",
    "with tf.name_scope(\"word_embedding\"):\n",
    "    W = tf.Variable(tf.constant(0.0, shape=[word_vocab_size, word_embd_dim]), name=\"W\")\n",
    "    embedding_placeholder = tf.placeholder(tf.float32,[word_vocab_size, word_embd_dim])\n",
    "    embedding_init = W.assign(embedding_placeholder)\n",
    "    embd_fp_word = tf.nn.embedding_lookup(W,fp[0])\n",
    "    word_embedding_saver = tf.train.Saver({\"word_embedding/W\": W})\n",
    "\n",
    "with tf.name_scope(\"pos_embedding\"):\n",
    "    W = tf.Variable(tf.random_uniform([pos_vocab_size, pos_embd_dim]), name=\"W\")\n",
    "    embd_fp_pos = tf.nn.embedding_lookup(W, fp[1])\n",
    "    pos_embedding_saver = tf.train.Saver({\"pos_embedding/W\": W})\n",
    "\n",
    "with tf.name_scope(\"dep_embedding\"):\n",
    "    W = tf.Variable(tf.random_uniform([dep_vocab_size, dep_embd_dim]), name=\"W\")\n",
    "    embd_sp = tf.nn.embedding_lookup(W, sp)\n",
    "    dep_embedding_saver = tf.train.Saver({\"dep_embedding/W\": W})\n",
    "    \n",
    "embd_fp = tf.concat([embd_fp_word, embd_fp_pos], axis=2)\n",
    "embd_fp_rev = tf.reverse(embd_fp, [1])\n",
    "fp_length_rev = tf.reverse(fp_length, [0])"
   ]
  },
  {
   "cell_type": "code",
   "execution_count": 3,
   "metadata": {
    "collapsed": true
   },
   "outputs": [],
   "source": [
    "def lstm_weights(channel, embedding_dim, state_size):\n",
    "    init_const = tf.zeros([1, state_size])\n",
    "    with tf.variable_scope(channel):\n",
    "        W_i = tf.get_variable(\"W_i\",shape=[embedding_dim, state_size] ,initializer=tf.contrib.layers.xavier_initializer())\n",
    "        U_i = tf.get_variable(\"U_i\",shape=[state_size, state_size] ,initializer=tf.contrib.layers.xavier_initializer())\n",
    "        b_i = tf.get_variable(\"b_i\", initializer=init_const)\n",
    "\n",
    "        W_f = tf.get_variable(\"W_f\",shape=[embedding_dim, state_size] ,initializer=tf.contrib.layers.xavier_initializer())\n",
    "        U_f = tf.get_variable(\"U_f\",shape=[state_size, state_size] ,initializer=tf.contrib.layers.xavier_initializer())\n",
    "        b_f = tf.get_variable(\"b_f\", initializer=init_const)\n",
    "\n",
    "        W_o = tf.get_variable(\"W_o\",shape=[embedding_dim, state_size] ,initializer=tf.contrib.layers.xavier_initializer())\n",
    "        U_o = tf.get_variable(\"U_o\",shape=[state_size, state_size] ,initializer=tf.contrib.layers.xavier_initializer())\n",
    "        b_o = tf.get_variable(\"b_o\", initializer=init_const)\n",
    "\n",
    "        W_g = tf.get_variable(\"W_g\",shape=[embedding_dim, state_size] ,initializer=tf.contrib.layers.xavier_initializer())\n",
    "        U_g = tf.get_variable(\"U_g\",shape=[state_size, state_size] ,initializer=tf.contrib.layers.xavier_initializer())\n",
    "        b_g = tf.get_variable(\"b_g\", initializer=init_const)"
   ]
  },
  {
   "cell_type": "code",
   "execution_count": 4,
   "metadata": {
    "collapsed": true
   },
   "outputs": [],
   "source": [
    "lstm_weights(\"lstm_fw\", word_embd_dim + pos_embd_dim, state_size)\n",
    "lstm_weights(\"lstm_bw\", word_embd_dim + pos_embd_dim, state_size)"
   ]
  },
  {
   "cell_type": "code",
   "execution_count": 5,
   "metadata": {
    "collapsed": true
   },
   "outputs": [],
   "source": [
    "def cond(i, steps, *agrs):\n",
    "    return i< steps"
   ]
  },
  {
   "cell_type": "code",
   "execution_count": 6,
   "metadata": {
    "collapsed": true
   },
   "outputs": [],
   "source": [
    "init_hs = tf.zeros([1, state_size])\n",
    "init_cs = tf.zeros([1, state_size])\n",
    "\n",
    "init_hs_ = tf.zeros([1, state_size])\n",
    "init_cs_ = tf.zeros([1, state_size])"
   ]
  },
  {
   "cell_type": "code",
   "execution_count": 7,
   "metadata": {
    "collapsed": true
   },
   "outputs": [],
   "source": [
    "hidden_states_fw = []\n",
    "cell_states_fw = []\n",
    "\n",
    "hidden_states_rev = []\n",
    "cell_states_rev = []"
   ]
  },
  {
   "cell_type": "code",
   "execution_count": 8,
   "metadata": {
    "collapsed": true
   },
   "outputs": [],
   "source": [
    "i = tf.constant(0)"
   ]
  },
  {
   "cell_type": "code",
   "execution_count": 9,
   "metadata": {
    "collapsed": true
   },
   "outputs": [],
   "source": [
    "for batch in range(batch_size):\n",
    "    def body(j, const, steps, input_embd, hs, cs, hs_, cs_):\n",
    "        inputs = tf.expand_dims(input_embd[j], [0])\n",
    "       \n",
    "        with tf.variable_scope(\"lstm_fw\", reuse=True):\n",
    "            W_i = tf.get_variable(\"W_i\")\n",
    "            U_i = tf.get_variable(\"U_i\")\n",
    "            b_i = tf.get_variable(\"b_i\")\n",
    "\n",
    "            W_f = tf.get_variable(\"W_f\")\n",
    "            U_f = tf.get_variable(\"U_f\")\n",
    "            b_f = tf.get_variable(\"b_f\")\n",
    "\n",
    "            W_o = tf.get_variable(\"W_o\")\n",
    "            U_o = tf.get_variable(\"U_o\")\n",
    "            b_o = tf.get_variable(\"b_o\")\n",
    "\n",
    "            W_g = tf.get_variable(\"W_g\")\n",
    "            U_g = tf.get_variable(\"U_g\")\n",
    "            b_g = tf.get_variable(\"b_g\")\n",
    "            \n",
    "            input_gate = tf.sigmoid(tf.matmul(inputs, W_i) + tf.matmul(hs, U_i) + b_i)\n",
    "            forget_gate = tf.sigmoid(tf.matmul(inputs, W_f) + tf.matmul(hs, U_f) + b_f)\n",
    "            output_gate = tf.sigmoid(tf.matmul(inputs, W_o) + tf.matmul(hs, U_o) + b_o)\n",
    "            gt = tf.tanh(tf.matmul(inputs, W_g) + tf.matmul(hs, U_g) + b_g)\n",
    "            cs = input_gate * gt + forget_gate * cs\n",
    "            hs = output_gate * tf.tanh(cs)\n",
    "            hs_ = tf.cond(tf.equal(j, const), lambda: hs, lambda: tf.concat([hs_, hs], 0))\n",
    "\n",
    "\n",
    "            return j+1, const, steps, input_embd, hs, cs, hs_, cs_\n",
    "\n",
    "    input_embd = embd_fp[batch]   \n",
    "    _, _, _, _, _, _, hs_sq, cs_sq = tf.while_loop(cond, body, \n",
    "            [0, 0, fp_length[batch], input_embd, init_hs, init_cs, init_hs_, init_cs_],\n",
    "            shape_invariants=[i.get_shape(), i.get_shape(), i.get_shape(), input_embd.get_shape(),\n",
    "            init_hs.get_shape(), init_cs.get_shape(), \n",
    "            tf.TensorShape([None, state_size]), tf.TensorShape([None, state_size])])\n",
    "    \n",
    "    hidden_states_fw.append(hs_sq)\n",
    "    cell_states_fw.append(cs_sq)"
   ]
  },
  {
   "cell_type": "code",
   "execution_count": 10,
   "metadata": {
    "collapsed": true
   },
   "outputs": [],
   "source": [
    "for batch in range(batch_size):\n",
    "    def body(j, const, steps, input_embd, hs, cs, hs_, cs_):\n",
    "        x = tf.expand_dims(input_embd[j], [0])\n",
    "       \n",
    "        with tf.variable_scope(\"lstm_bw\", reuse=True):\n",
    "            W_i = tf.get_variable(\"W_i\")\n",
    "            U_i = tf.get_variable(\"U_i\")\n",
    "            b_i = tf.get_variable(\"b_i\")\n",
    "\n",
    "            W_f = tf.get_variable(\"W_f\")\n",
    "            U_f = tf.get_variable(\"U_f\")\n",
    "            b_f = tf.get_variable(\"b_f\")\n",
    "\n",
    "            W_o = tf.get_variable(\"W_o\")\n",
    "            U_o = tf.get_variable(\"U_o\")\n",
    "            b_o = tf.get_variable(\"b_o\")\n",
    "\n",
    "            W_g = tf.get_variable(\"W_g\")\n",
    "            U_g = tf.get_variable(\"U_g\")\n",
    "            b_g = tf.get_variable(\"b_g\")\n",
    "            \n",
    "            input_gate = tf.sigmoid(tf.matmul(x, W_i) + tf.matmul(hs, U_i) + b_i)\n",
    "            forget_gate = tf.sigmoid(tf.matmul(x, W_f) + tf.matmul(hs, U_f) + b_f)\n",
    "            output_gate = tf.sigmoid(tf.matmul(x, W_o) + tf.matmul(hs, U_o) + b_o)\n",
    "            gt = tf.tanh(tf.matmul(x, W_g) + tf.matmul(hs, U_g) + b_g)\n",
    "            cs = input_gate * gt + forget_gate * cs\n",
    "            hs = output_gate * tf.tanh(cs)\n",
    "            hs_ = tf.cond(tf.equal(j, const), lambda: hs, lambda: tf.concat([hs_, hs], 0))\n",
    "\n",
    "\n",
    "            return j+1, const, steps, input_embd, hs, cs, hs_, cs_\n",
    "\n",
    "    input_embd = embd_fp_rev[batch]   \n",
    "    _, _, _, _, _, _, hs_sq, cs_sq = tf.while_loop(cond, body, \n",
    "            [0, 0, fp_length_rev[batch], input_embd, init_hs, init_cs, init_hs_, init_cs_],\n",
    "            shape_invariants=[i.get_shape(), i.get_shape(), i.get_shape(), input_embd.get_shape(),\n",
    "            init_hs.get_shape(), init_cs.get_shape(), \n",
    "            tf.TensorShape([None, state_size]), tf.TensorShape([None, state_size])])\n",
    "    \n",
    "    hidden_states_rev.append(hs_sq)\n",
    "    cell_states_rev.append(cs_sq)"
   ]
  },
  {
   "cell_type": "code",
   "execution_count": 11,
   "metadata": {
    "collapsed": true
   },
   "outputs": [],
   "source": [
    "hidden_states_bw = tf.reverse(hidden_states_rev, [1])\n",
    "cell_states_bw = tf.reverse(cell_states_rev, [1])"
   ]
  },
  {
   "cell_type": "code",
   "execution_count": 12,
   "metadata": {},
   "outputs": [
    {
     "data": {
      "text/plain": [
       "[<tf.Tensor 'while/Exit_6:0' shape=(?, 100) dtype=float32>,\n",
       " <tf.Tensor 'while_1/Exit_6:0' shape=(?, 100) dtype=float32>,\n",
       " <tf.Tensor 'while_2/Exit_6:0' shape=(?, 100) dtype=float32>,\n",
       " <tf.Tensor 'while_3/Exit_6:0' shape=(?, 100) dtype=float32>,\n",
       " <tf.Tensor 'while_4/Exit_6:0' shape=(?, 100) dtype=float32>,\n",
       " <tf.Tensor 'while_5/Exit_6:0' shape=(?, 100) dtype=float32>,\n",
       " <tf.Tensor 'while_6/Exit_6:0' shape=(?, 100) dtype=float32>,\n",
       " <tf.Tensor 'while_7/Exit_6:0' shape=(?, 100) dtype=float32>,\n",
       " <tf.Tensor 'while_8/Exit_6:0' shape=(?, 100) dtype=float32>,\n",
       " <tf.Tensor 'while_9/Exit_6:0' shape=(?, 100) dtype=float32>]"
      ]
     },
     "execution_count": 12,
     "metadata": {},
     "output_type": "execute_result"
    }
   ],
   "source": [
    "hidden_states_fw"
   ]
  },
  {
   "cell_type": "code",
   "execution_count": 13,
   "metadata": {
    "collapsed": true
   },
   "outputs": [],
   "source": [
    "hidden_states = tf.concat([hidden_states_fw, hidden_states_bw], 2)"
   ]
  },
  {
   "cell_type": "code",
   "execution_count": 14,
   "metadata": {},
   "outputs": [
    {
     "data": {
      "text/plain": [
       "<tf.Tensor 'strided_slice_40:0' shape=(?, 200) dtype=float32>"
      ]
     },
     "execution_count": 14,
     "metadata": {},
     "output_type": "execute_result"
    }
   ],
   "source": [
    "hidden_states[i]"
   ]
  },
  {
   "cell_type": "code",
   "execution_count": 15,
   "metadata": {
    "collapsed": true
   },
   "outputs": [],
   "source": [
    "tree_input_size = state_size * 2 + dep_embd_dim"
   ]
  },
  {
   "cell_type": "code",
   "execution_count": 16,
   "metadata": {
    "collapsed": true
   },
   "outputs": [],
   "source": [
    "def lstm_tree(channel, tree_input_size, state_size):\n",
    "    init_const = tf.zeros([1, state_size])\n",
    "\n",
    "    with tf.variable_scope(channel):\n",
    "        W_i = tf.get_variable(\"W_i\", shape=[tree_input_size, state_size], initializer=tf.contrib.layers.xavier_initializer())\n",
    "        U_i = tf.get_variable(\"U_i\", shape=[state_size, state_size], initializer=tf.contrib.layers.xavier_initializer())\n",
    "        b_i = tf.get_variable(\"b_i\", initializer=init_const)\n",
    "        U_it = tf.get_variable(\"U_it\", shape=[state_size, state_size], initializer=tf.contrib.layers.xavier_initializer())\n",
    "\n",
    "        W_f = tf.get_variable(\"W_f\", shape=[tree_input_size, state_size], initializer=tf.contrib.layers.xavier_initializer())\n",
    "        U_f = tf.get_variable(\"U_f\", shape=[state_size, state_size], initializer=tf.contrib.layers.xavier_initializer())\n",
    "        b_f = tf.get_variable(\"b_f\", initializer=init_const)\n",
    "        U_ft = tf.get_variable(\"U_ft\", shape=[max_len_path, state_size, state_size], initializer=tf.contrib.layers.xavier_initializer())\n",
    "\n",
    "        W_o = tf.get_variable(\"W_o\", shape=[tree_input_size, state_size], initializer=tf.contrib.layers.xavier_initializer())\n",
    "        U_o = tf.get_variable(\"U_o\", shape=[state_size, state_size], initializer=tf.contrib.layers.xavier_initializer())\n",
    "        b_o = tf.get_variable(\"b_o\", initializer=init_const)\n",
    "        U_ot = tf.get_variable(\"U_ot\", shape=[state_size, state_size], initializer=tf.contrib.layers.xavier_initializer())\n",
    "\n",
    "        W_u = tf.get_variable(\"W_u\", shape=[tree_input_size, state_size], initializer=tf.contrib.layers.xavier_initializer())\n",
    "        U_u = tf.get_variable(\"U_u\", shape=[state_size, state_size], initializer=tf.contrib.layers.xavier_initializer())\n",
    "        b_u = tf.get_variable(\"b_u\", initializer=init_const)\n",
    "        U_ut = tf.get_variable(\"U_ut\", shape=[state_size, state_size], initializer=tf.contrib.layers.xavier_initializer())"
   ]
  },
  {
   "cell_type": "code",
   "execution_count": 17,
   "metadata": {
    "collapsed": true
   },
   "outputs": [],
   "source": [
    "lstm_tree(\"lstm_tree_btup\", tree_input_size, state_size)\n",
    "lstm_tree(\"lstm_tree_tpdn\", tree_input_size, state_size)"
   ]
  },
  {
   "cell_type": "code",
   "execution_count": 18,
   "metadata": {
    "collapsed": true
   },
   "outputs": [],
   "source": [
    "hds_btup_series = []\n",
    "cds_btup_series = []\n",
    "hds_btup_lca_series = []\n",
    "cds_btup_lca_series = []\n",
    "\n",
    "hds_tpdn_series = []\n",
    "cds_tpdn_series = []\n",
    "hds_tpdn_dp_series = []\n",
    "cds_tpdn_dp_series = []"
   ]
  },
  {
   "cell_type": "code",
   "execution_count": 19,
   "metadata": {
    "collapsed": true
   },
   "outputs": [],
   "source": [
    "init_hds_ = tf.zeros([1, 1, state_size])\n",
    "init_cds_ = tf.zeros([1, 1, state_size])\n",
    "\n",
    "init_hds = tf.expand_dims(tf.zeros([1, state_size]), 0)\n",
    "init_cds = tf.expand_dims(tf.zeros([1, state_size]), 0)"
   ]
  },
  {
   "cell_type": "code",
   "execution_count": 20,
   "metadata": {
    "collapsed": true
   },
   "outputs": [],
   "source": [
    "for batch in range(batch_size):    \n",
    "\n",
    "    def loop_over_seq(b, p, const, index, steps, input_pos, input_embd, input_childs, state, hds, cds, hds_, cds_):\n",
    "        inputs = tf.expand_dims(tf.concat([tf.gather(hidden_states[b], input_pos[p][index]), input_embd[p][index]],0),0)\n",
    "        childs = input_childs[p][index]\n",
    "        num_child = tf.shape(childs)[0]\n",
    "\n",
    "        ht = state[0]\n",
    "        ct = state[1]\n",
    "        num_child_sp = tf.shape(hds)[0]\n",
    "        with tf.variable_scope(\"lstm_tree_btup\", reuse=True):\n",
    "            W_i = tf.get_variable(\"W_i\")\n",
    "            U_i = tf.get_variable(\"U_i\")\n",
    "            b_i = tf.get_variable(\"b_i\")\n",
    "            U_it = tf.get_variable(\"U_it\")\n",
    "\n",
    "            W_f = tf.get_variable(\"W_f\")\n",
    "            U_f = tf.get_variable(\"U_f\")\n",
    "            b_f = tf.get_variable(\"b_f\")\n",
    "            U_ft = tf.get_variable(\"U_ft\")\n",
    "\n",
    "            W_o = tf.get_variable(\"W_o\")\n",
    "            U_o= tf.get_variable(\"U_o\")\n",
    "            b_o = tf.get_variable(\"b_o\")\n",
    "            U_ot = tf.get_variable(\"U_ot\")\n",
    "\n",
    "            W_u = tf.get_variable(\"W_u\")\n",
    "            U_u = tf.get_variable(\"U_u\")\n",
    "            b_u = tf.get_variable(\"b_u\")\n",
    "            U_ut = tf.get_variable(\"U_ut\")    \n",
    "\n",
    "            it = tf.matmul(inputs, W_i) + b_i + tf.matmul(hds[0], U_i)\n",
    "            ft = tf.matmul(inputs, W_f) + b_f + tf.matmul(hds[0], U_f)\n",
    "            ot = tf.matmul(inputs, W_o) + b_o + tf.matmul(hds[0], U_o)\n",
    "            ut = tf.matmul(inputs, W_u) + b_u + tf.matmul(hds[0], U_u)\n",
    "\n",
    "            def matmul(k, steps, it, ft, ot, ut):\n",
    "                it += tf.matmul(hds[k], U_i)\n",
    "                ft += tf.matmul(hds[k], U_f) \n",
    "                ot += tf.matmul(hds[k], U_o) \n",
    "                ut += tf.matmul(hds[k], U_u) \n",
    "                return k+1, steps, it, ft, ot, ut\n",
    "            _, _, it, ft, ot, ut = tf.while_loop(cond, matmul, [1, num_child_sp, it, ft, ot, ut])\n",
    "\n",
    "\n",
    "            def child_sum(k, steps, out, U):\n",
    "                out += tf.matmul(tf.gather(ht, childs[k]), U)\n",
    "                return k+1, steps, out, U\n",
    "\n",
    "            _, _, ht_i, _ = tf.while_loop(cond, child_sum, [0, num_child, it, U_it])\n",
    "            _, _, ht_o, _ = tf.while_loop(cond, child_sum, [0, num_child, ot, U_ot])\n",
    "            _, _, ht_u, _ = tf.while_loop(cond, child_sum, [0, num_child, ut, U_ut])\n",
    "\n",
    "            input_gate = tf.sigmoid(ht_i)\n",
    "            output_gate = tf.sigmoid(ht_o)\n",
    "            u_input = tf.tanh(ht_u)\n",
    "\n",
    "            cell_state = input_gate * u_input \n",
    "\n",
    "            def _cell_state_(k, steps, cell_state):\n",
    "                _, _, f, _ = tf.while_loop(cond, child_sum, [i, num_child, ft, U_ft[k]])\n",
    "                cell_state += tf.sigmoid(f) * cds[k]\n",
    "                return k+1, steps, cell_state\n",
    "            _, _, cell_state = tf.while_loop(cond, _cell_state_, [i, num_child_sp, cell_state])\n",
    "\n",
    "            def _cds_(k, steps, ctl):\n",
    "                _, _, fj, _ = tf.while_loop(cond, child_sum, [i, num_child, ft, U_ft[k+2]])\n",
    "                ctl += tf.sigmoid(fj) * tf.gather(ct, childs[k])\n",
    "                return k+1, steps, ctl\n",
    "\n",
    "            _, _, cds = tf.while_loop(cond, _cds_, [i, num_child, cell_state])\n",
    "\n",
    "            hds = tf.expand_dims(output_gate * tf.tanh(cds), 0)\n",
    "\n",
    "            cds = tf.expand_dims(cds, 0)\n",
    "\n",
    "            hds_ = tf.cond(tf.equal(index, const), lambda: hds, lambda: tf.concat([hds_, hds], 0))\n",
    "            cds_ = tf.cond(tf.equal(index, const), lambda: cds, lambda: tf.concat([cds_, cds], 0))\n",
    "\n",
    "        return b, p, const, index+1, steps, input_pos, input_embd, input_childs, state, hds, cds, hds_, cds_\n",
    "\n",
    "\n",
    "    input_pos = sp_pos[batch]\n",
    "    input_embd = embd_sp[batch]\n",
    "    input_childs = sp_childs[batch]\n",
    "    ht = tf.expand_dims(hidden_states_fw[batch], 1)\n",
    "    ct = tf.expand_dims(cell_states_fw[batch], 1)\n",
    "    state = tf.stack([ht, ct], axis=0)  \n",
    "    \n",
    "    _, _, _, _, _, _, _, _, _, _, _, hds_btup, cds_btup = tf.while_loop(cond, loop_over_seq, \n",
    "        [batch, 0, 0, 0, sp_length[batch][0] - 1, input_pos, input_embd, input_childs,\n",
    "        state, init_hds, init_cds, init_hds_, init_cds_], \n",
    "        shape_invariants=[i.get_shape(), i.get_shape(), i.get_shape(), i.get_shape(), i.get_shape(),\n",
    "        input_pos.get_shape(), input_embd.get_shape(), input_childs.get_shape(), \n",
    "        state.get_shape(), init_hds.get_shape(), init_cds.get_shape(), \n",
    "        tf.TensorShape([None, 1, state_size]), tf.TensorShape([None, 1, state_size])])\n",
    "\n",
    "    hds_lca = hds_btup[sp_length[batch][0] - 2]\n",
    "    cds_lca = cds_btup[sp_length[batch][0] - 2]\n",
    "\n",
    "    _, _, _, _, _,  _, _, _, _, _, _, hds_btup, cds_btup = tf.while_loop(cond, loop_over_seq, \n",
    "        [batch, 1, 0, 0, sp_length[batch][1], input_pos, input_embd, input_childs, state,\n",
    "        init_hds, init_cds, hds_btup, cds_btup], \n",
    "        shape_invariants=[i.get_shape(), i.get_shape(), i.get_shape(), i.get_shape(), i.get_shape(),\n",
    "        input_pos.get_shape(), input_embd.get_shape(), \n",
    "        input_childs.get_shape(), state.get_shape(), init_hds.get_shape(), init_cds.get_shape(), \n",
    "        tf.TensorShape([None, 1, state_size]), tf.TensorShape([None, 1, state_size])])\n",
    "\n",
    "    hds_lca = tf.stack([hds_lca, hds_btup[sp_length[batch][0] + sp_length[batch][1] - 2]], axis=0)\n",
    "    cds_lca = tf.stack([cds_lca, cds_btup[sp_length[batch][0] + sp_length[batch][1] - 2]], axis=0)\n",
    "\n",
    "    _, _, _, _, _, _, _, _, _, _, _, hds_btup_lca, cds_btup_lca = tf.while_loop(cond, loop_over_seq, \n",
    "        [batch, 0,  sp_length[batch][0]-1, sp_length[batch][0]-1, sp_length[batch][0], input_pos, input_embd,\n",
    "        input_childs, state, hds_lca, cds_lca, init_hds_, init_cds_], \n",
    "        shape_invariants=[i.get_shape(), i.get_shape(), i.get_shape(), i.get_shape(), \n",
    "        i.get_shape(), input_pos.get_shape(), input_embd.get_shape(),\n",
    "        input_childs.get_shape(), state.get_shape(), \n",
    "        tf.TensorShape([None, 1, state_size]), tf.TensorShape([None, 1, state_size]),\n",
    "        tf.TensorShape([None, 1, state_size]), tf.TensorShape([None, 1, state_size])])\n",
    "    \n",
    "    hds_btup_series.append(hds_btup)\n",
    "    cds_btup_series.append(cds_btup)\n",
    "    hds_btup_lca_series.append(hds_btup_lca)\n",
    "    cds_btup_lca_series.append(cds_btup_lca)\n",
    "        "
   ]
  },
  {
   "cell_type": "code",
   "execution_count": 21,
   "metadata": {
    "collapsed": true
   },
   "outputs": [],
   "source": [
    "for batch in range(batch_size):\n",
    "    \n",
    "    def loop_over_seq(b, p, const, index, steps, input_pos, input_embd, input_childs, state, hds, cds, hds_, cds_):\n",
    "        inputs = tf.expand_dims(tf.concat([tf.gather(hidden_states[b], input_pos[p][index]), input_embd[p][index]],0), 0)\n",
    "        childs = input_childs[p][index]\n",
    "        num_child = tf.shape(childs)[0]\n",
    "\n",
    "        ht = state[0]\n",
    "        ct = state[1]\n",
    "        num_child_sp = tf.shape(hds)[0]\n",
    "        with tf.variable_scope(\"lstm_tree_tpdn\", reuse=True):\n",
    "            W_i = tf.get_variable(\"W_i\")\n",
    "            U_i = tf.get_variable(\"U_i\")\n",
    "            b_i = tf.get_variable(\"b_i\")\n",
    "            U_it = tf.get_variable(\"U_it\")\n",
    "\n",
    "            W_f = tf.get_variable(\"W_f\")\n",
    "            U_f = tf.get_variable(\"U_f\")\n",
    "            b_f = tf.get_variable(\"b_f\")\n",
    "            U_ft = tf.get_variable(\"U_ft\")\n",
    "\n",
    "            W_o = tf.get_variable(\"W_o\")\n",
    "            U_o= tf.get_variable(\"U_o\")\n",
    "            b_o = tf.get_variable(\"b_o\")\n",
    "            U_ot = tf.get_variable(\"U_ot\")\n",
    "\n",
    "            W_u = tf.get_variable(\"W_u\")\n",
    "            U_u = tf.get_variable(\"U_u\")\n",
    "            b_u = tf.get_variable(\"b_u\")\n",
    "            U_ut = tf.get_variable(\"U_ut\")    \n",
    "\n",
    "            it = tf.matmul(inputs, W_i) + b_i + tf.matmul(hds[0], U_i)\n",
    "            ft = tf.matmul(inputs, W_f) + b_f + tf.matmul(hds[0], U_f)\n",
    "            ot = tf.matmul(inputs, W_o) + b_o + tf.matmul(hds[0], U_o)\n",
    "            ut = tf.matmul(inputs, W_u) + b_u + tf.matmul(hds[0], U_u)\n",
    "\n",
    "            def matmul(k, steps, it, ft, ot, ut):\n",
    "                it += tf.matmul(hds[k], U_i)\n",
    "                ft += tf.matmul(hds[k], U_f) \n",
    "                ot += tf.matmul(hds[k], U_o) \n",
    "                ut += tf.matmul(hds[k], U_u) \n",
    "                return k+1, steps, it, ft, ot, ut\n",
    "            _, _, it, ft, ot, ut = tf.while_loop(cond, matmul, [1, num_child_sp, it, ft, ot, ut])\n",
    "\n",
    "\n",
    "            def child_sum(k, steps, out, U):\n",
    "                out += tf.matmul(tf.gather(ht, childs[k]), U)\n",
    "                return k+1, steps, out, U\n",
    "\n",
    "            _, _, ht_i, _ = tf.while_loop(cond, child_sum, [0, num_child, it, U_it])\n",
    "            _, _, ht_o, _ = tf.while_loop(cond, child_sum, [0, num_child, ot, U_ot])\n",
    "            _, _, ht_u, _ = tf.while_loop(cond, child_sum, [0, num_child, ut, U_ut])\n",
    "\n",
    "            input_gate = tf.sigmoid(ht_i)\n",
    "            output_gate = tf.sigmoid(ht_o)\n",
    "            u_input = tf.tanh(ht_u)\n",
    "\n",
    "            cell_state = input_gate * u_input \n",
    "\n",
    "            def _cell_state_(k, steps, cell_state):\n",
    "                _, _, f, _ = tf.while_loop(cond, child_sum, [i, num_child, ft, U_ft[k]])\n",
    "                cell_state += tf.sigmoid(f) * cds[k]\n",
    "                return k+1, steps, cell_state\n",
    "            _, _, cell_state = tf.while_loop(cond, _cell_state_, [i, num_child_sp, cell_state])\n",
    "\n",
    "            def _cds_(k, steps, ctl):\n",
    "                _, _, fj, _ = tf.while_loop(cond, child_sum, [i, num_child, ft, U_ft[k+2]])\n",
    "                ctl += tf.sigmoid(fj) * tf.gather(ct, childs[k])\n",
    "                return k+1, steps, ctl\n",
    "\n",
    "            _, _, cds = tf.while_loop(cond, _cds_, [i, num_child, cell_state])\n",
    "\n",
    "            hds = tf.expand_dims(output_gate * tf.tanh(cds), 0)\n",
    "\n",
    "            cds = tf.expand_dims(cds, 0)\n",
    "\n",
    "            hds_ = tf.cond(tf.equal(index, const), lambda: hds, lambda: tf.concat([hds_, hds], 0))\n",
    "            cds_ = tf.cond(tf.equal(index, const), lambda: cds, lambda: tf.concat([cds_, cds], 0))\n",
    "\n",
    "        return b, p, const, index+1, steps, input_pos, input_embd, input_childs, state, hds, cds, hds_, cds_\n",
    "\n",
    "    \n",
    "    input_pos = tf.reverse(sp_pos[batch], [1])\n",
    "    input_embd = tf.reverse(embd_sp[batch], [1])\n",
    "    input_childs = tf.reverse(sp_childs[batch], [1])\n",
    "    ht = tf.expand_dims(hidden_states_bw[batch], 1)\n",
    "    ct = tf.expand_dims(cell_states_bw[batch], 1)\n",
    "    state = tf.stack([ht, ct], axis=0)  \n",
    "    \n",
    "    _, _, _, _, _, _, _, _, _, _, _, hds_tpdn_lca, cds_tpdn_lca = tf.while_loop(cond, loop_over_seq, \n",
    "        [batch, 0, 0, 0, 1, input_pos, input_embd, input_childs, state, \n",
    "        init_hds, init_cds, init_hds_, init_cds_], \n",
    "        shape_invariants=[i.get_shape(), i.get_shape(), i.get_shape(), i.get_shape(), i.get_shape(), \n",
    "        input_pos.get_shape(), input_embd.get_shape(), input_childs.get_shape(), state.get_shape(), \n",
    "        tf.TensorShape([None, 1, state_size]), tf.TensorShape([None, 1, state_size]),\n",
    "        tf.TensorShape([None, 1, state_size]), tf.TensorShape([None, 1, state_size])])\n",
    "\n",
    "    _, _, _, _, _, _, _, _, _, _, _, hds_tpdn, cds_tpdn = tf.while_loop(cond, loop_over_seq, \n",
    "        [batch, 0, 1, 1, sp_length[batch][0], input_pos, input_embd, input_childs, state, \n",
    "        hds_tpdn_lca, cds_tpdn_lca, init_hds_, init_cds_], \n",
    "        shape_invariants=[i.get_shape(), i.get_shape(), i.get_shape(), i.get_shape(), i.get_shape(), \n",
    "        input_pos.get_shape(), input_embd.get_shape(), input_childs.get_shape(), state.get_shape(), \n",
    "        tf.TensorShape([None, 1, state_size]), tf.TensorShape([None, 1, state_size]),\n",
    "        tf.TensorShape([None, 1, state_size]), tf.TensorShape([None, 1, state_size])])\n",
    "        \n",
    "    hds_tpdn_dp = hds_tpdn[sp_length[batch][0] - 2]\n",
    "    cds_tpdn_dp = cds_tpdn[sp_length[batch][0] - 2]\n",
    "        \n",
    "    _, _, _, _, _, _, _, _, _, _, _, hds_tpdn, cds_tpdn = tf.while_loop(cond, loop_over_seq, \n",
    "        [batch, 1, 0, 0, sp_length[batch][1], input_pos, input_embd, input_childs, state, \n",
    "        hds_tpdn_lca, cds_tpdn_lca, init_hds_, init_cds_], \n",
    "        shape_invariants=[i.get_shape(), i.get_shape(), i.get_shape(), i.get_shape(),i.get_shape(), \n",
    "        input_pos.get_shape(), input_embd.get_shape(), input_childs.get_shape(), state.get_shape(), \n",
    "        tf.TensorShape([None, 1, state_size]), tf.TensorShape([None, 1, state_size]),\n",
    "        tf.TensorShape([None, 1, state_size]), tf.TensorShape([None, 1, state_size])])\n",
    "    \n",
    "    hds_tpdn_dp = tf.stack([hds_tpdn_dp, hds_tpdn[sp_length[batch][0] + sp_length[batch][1] - 2]], axis=0)\n",
    "    cds_tpdn_dp = tf.stack([cds_tpdn_dp, cds_tpdn[sp_length[batch][0] + sp_length[batch][1] - 2]], axis=0)\n",
    "    \n",
    "    hds_tpdn_series.append(hds_tpdn)\n",
    "    cds_tpdn_series.append(cds_tpdn)\n",
    "    hds_tpdn_dp_series.append(hds_tpdn_dp)\n",
    "    cds_tpdn_dp_series.append(cds_tpdn_dp)\n",
    "    "
   ]
  },
  {
   "cell_type": "code",
   "execution_count": 40,
   "metadata": {},
   "outputs": [],
   "source": [
    "dp = []\n",
    "for batch in range(batch_size):\n",
    "    temp  = tf.concat([hds_btup_lca_series[batch][0], hds_tpdn_dp_series[batch][0], hds_tpdn_dp_series[batch][1]],1)\n",
    "    if(batch==0):\n",
    "        dp = temp\n",
    "    else:\n",
    "        dp = tf.concat([dp, temp], 0)"
   ]
  },
  {
   "cell_type": "code",
   "execution_count": 41,
   "metadata": {
    "scrolled": true
   },
   "outputs": [
    {
     "data": {
      "text/plain": [
       "<tf.Tensor 'concat_33:0' shape=(10, 300) dtype=float32>"
      ]
     },
     "execution_count": 41,
     "metadata": {},
     "output_type": "execute_result"
    }
   ],
   "source": [
    "dp"
   ]
  },
  {
   "cell_type": "code",
   "execution_count": 22,
   "metadata": {
    "collapsed": true
   },
   "outputs": [],
   "source": [
    "with tf.name_scope(\"hidden_layer_seq\"):\n",
    "    W = tf.Variable(tf.truncated_normal([200, 100], -0.1, 0.1), name=\"W\")\n",
    "    b = tf.Variable(tf.zeros([100]), name=\"b\")\n",
    "    y_hidden_layer = []\n",
    "    y_hl = tf.zeros([1, 100])\n",
    "    for batch in range(batch_size):\n",
    "        def hidden_layer_loop(j, const, steps, ss, y_hl):\n",
    "            temp = tf.tanh(tf.matmul(ss[j], W) + b)\n",
    "            y_hl = tf.cond(tf.equal(j, const), lambda: temp, lambda: tf.concat([y_hl, temp], 0))\n",
    "            return j+1, const, steps, ss, y_hl\n",
    "\n",
    "        ss = tf.expand_dims(hidden_states[batch], 1)\n",
    "        _, _, _, _, y_hls = tf.while_loop(cond, hidden_layer_loop, \n",
    "                                [0, 0, fp_length[batch], ss, y_hl],\n",
    "                                shape_invariants=[i.get_shape(), i.get_shape(), i.get_shape(), \n",
    "                                ss.get_shape(), tf.TensorShape([None, 100])])\n",
    "        y_hidden_layer.append(y_hls)"
   ]
  },
  {
   "cell_type": "code",
   "execution_count": 46,
   "metadata": {
    "collapsed": true
   },
   "outputs": [],
   "source": [
    "with tf.name_scope(\"dropout_hidden_layer_seq\"):\n",
    "    y_hidden_layer_drop = tf.nn.dropout(y_hidden_layer, 0.3)"
   ]
  },
  {
   "cell_type": "code",
   "execution_count": 48,
   "metadata": {},
   "outputs": [],
   "source": [
    "with tf.name_scope(\"softmax_layer_seq\"):\n",
    "    W = tf.Variable(tf.truncated_normal([100, 2], -0.1, 0.1), name=\"W\")\n",
    "    b = tf.Variable(tf.zeros([2]), name=\"b\")\n",
    "    \n",
    "    logits_entity = []\n",
    "    predictions_entity = []\n",
    "    lg = tf.zeros([1, 2])\n",
    "    \n",
    "    for batch in range(batch_size):\n",
    "        def softmax_layer_loop(j, const, steps, y_hl, lg):\n",
    "            temp = tf.matmul(y_hl[j], W) + b\n",
    "            lg = tf.cond(tf.equal(j, const), lambda: temp, lambda: tf.concat([lg, temp], 0))\n",
    "            return j+1, const, steps, y_hl, lg\n",
    "\n",
    "        y_hl = tf.expand_dims(y_hidden_layer_drop[batch], 1)\n",
    "        _, _, _, _, logit = tf.while_loop(cond, softmax_layer_loop, \n",
    "                                [0, 0, fp_length[batch], y_hl,lg],\n",
    "                                shape_invariants=[i.get_shape(), i.get_shape(), i.get_shape(), \n",
    "                                y_hl.get_shape(), tf.TensorShape([None, 2])])\n",
    "        logits_entity.append(logit)\n",
    "        predictions_entity.append(tf.arg_max(logit, 1))"
   ]
  },
  {
   "cell_type": "code",
   "execution_count": 50,
   "metadata": {},
   "outputs": [],
   "source": [
    "with tf.name_scope(\"loss_seq\"):\n",
    "    loss_seq = tf.reduce_mean(tf.nn.sparse_softmax_cross_entropy_with_logits(logits=logits_entity, labels=y_entity))"
   ]
  },
  {
   "cell_type": "code",
   "execution_count": 51,
   "metadata": {},
   "outputs": [],
   "source": [
    "with tf.name_scope(\"hidden_layer_dep\"):\n",
    "    W = tf.Variable(tf.truncated_normal([300, 100], -0.1, 0.1), name=\"W\")\n",
    "    b = tf.Variable(tf.zeros([100]), name=\"b\")\n",
    "    y_p = tf.tanh(tf.matmul(dp, W) + b)"
   ]
  },
  {
   "cell_type": "code",
   "execution_count": 53,
   "metadata": {
    "collapsed": true
   },
   "outputs": [],
   "source": [
    "with tf.name_scope(\"softmax_layer_dep\"):\n",
    "    W = tf.Variable(tf.truncated_normal([100, relation_classes], -0.1, 0.1), name=\"W\")\n",
    "    b = tf.Variable(tf.zeros([relation_classes]), name=\"b\")\n",
    "    logits = tf.matmul(y_p, W) + b    "
   ]
  },
  {
   "cell_type": "code",
   "execution_count": 54,
   "metadata": {},
   "outputs": [],
   "source": [
    "with tf.name_scope(\"loss_dep\"):\n",
    "    loss_dep = tf.reduce_mean(tf.nn.sparse_softmax_cross_entropy_with_logits(logits=logits, labels=relation))"
   ]
  },
  {
   "cell_type": "code",
   "execution_count": 64,
   "metadata": {
    "collapsed": true
   },
   "outputs": [],
   "source": [
    "tv_all = tf.trainable_variables()\n",
    "\n",
    "tv_regu = []\n",
    "\n",
    "non_reg = [\"word_embedding/W:0\",\"pos_embedding/W:0\",'dep_embedding/W:0']\n",
    "\n",
    "for t in tv_all:\n",
    "    if t.name not in non_reg:\n",
    "        if(t.name.find('b_')==-1):\n",
    "            tv_regu.append(t)"
   ]
  },
  {
   "cell_type": "code",
   "execution_count": 66,
   "metadata": {
    "collapsed": true
   },
   "outputs": [],
   "source": [
    "with tf.name_scope(\"total_loss\"):\n",
    "    l2_loss = lambda_l2 * tf.reduce_sum([ tf.nn.l2_loss(v) for v in tv_regu ])\n",
    "    total_loss = l2_loss + loss_seq + loss_dep"
   ]
  },
  {
   "cell_type": "code",
   "execution_count": 6,
   "metadata": {
    "collapsed": true
   },
   "outputs": [],
   "source": [
    "global_step = tf.Variable(0, trainable=False, name=\"global_step\")\n",
    "\n",
    "learning_rate = tf.train.exponential_decay(starter_learning_rate, global_step, decay_steps, decay_rate, staircase=True)\n",
    "optimizer = tf.train.AdamOptimizer(learning_rate).minimize(total_loss, global_step=global_step)"
   ]
  },
  {
   "cell_type": "code",
   "execution_count": 7,
   "metadata": {
    "collapsed": true
   },
   "outputs": [],
   "source": [
    "f = open('data/vocab.pkl', 'rb')\n",
    "vocab = pickle.load(f)\n",
    "f.close()\n",
    "\n",
    "word2id = dict((w, i) for i,w in enumerate(vocab))\n",
    "id2word = dict((i, w) for i,w in enumerate(vocab))\n",
    "\n",
    "unknown_token = \"UNKNOWN_TOKEN\"\n",
    "word2id[unknown_token] = word_vocab_size -1\n",
    "id2word[word_vocab_size-1] = unknown_token\n",
    "\n",
    "pos_tags_vocab = []\n",
    "for line in open('data/pos_tags.txt'):\n",
    "        pos_tags_vocab.append(line.strip())\n",
    "\n",
    "dep_vocab = []\n",
    "for line in open('data/dependency_types.txt'):\n",
    "    dep_vocab.append(line.strip())\n",
    "\n",
    "relation_vocab = []\n",
    "for line in open('data/relation_types.txt'):\n",
    "    relation_vocab.append(line.strip())\n",
    "\n",
    "rel2id = dict((w, i) for i,w in enumerate(relation_vocab))\n",
    "id2rel = dict((i, w) for i,w in enumerate(relation_vocab))\n",
    "\n",
    "pos_tag2id = dict((w, i) for i,w in enumerate(pos_tags_vocab))\n",
    "id2pos_tag = dict((i, w) for i,w in enumerate(pos_tags_vocab))\n",
    "\n",
    "dep2id = dict((w, i) for i,w in enumerate(dep_vocab))\n",
    "id2dep = dict((i, w) for i,w in enumerate(dep_vocab))\n",
    "\n",
    "pos_tag2id['OTH'] = 9\n",
    "id2pos_tag[9] = 'OTH'\n",
    "\n",
    "dep2id['OTH'] = 20\n",
    "id2dep[20] = 'OTH'\n",
    "\n",
    "JJ_pos_tags = ['JJ', 'JJR', 'JJS']\n",
    "NN_pos_tags = ['NN', 'NNS', 'NNP', 'NNPS']\n",
    "RB_pos_tags = ['RB', 'RBR', 'RBS']\n",
    "PRP_pos_tags = ['PRP', 'PRP$']\n",
    "VB_pos_tags = ['VB', 'VBD', 'VBG', 'VBN', 'VBP', 'VBZ']\n",
    "_pos_tags = ['CC', 'CD', 'DT', 'IN']\n",
    "\n",
    "def pos_tag(x):\n",
    "    if x in JJ_pos_tags:\n",
    "        return pos_tag2id['JJ']\n",
    "    if x in NN_pos_tags:\n",
    "        return pos_tag2id['NN']\n",
    "    if x in RB_pos_tags:\n",
    "        return pos_tag2id['RB']\n",
    "    if x in PRP_pos_tags:\n",
    "        return pos_tag2id['PRP']\n",
    "    if x in VB_pos_tags:\n",
    "        return pos_tag2id['VB']\n",
    "    if x in _pos_tags:\n",
    "        return pos_tag2id[x]\n",
    "    else:\n",
    "        return 9"
   ]
  },
  {
   "cell_type": "code",
   "execution_count": 8,
   "metadata": {
    "collapsed": true
   },
   "outputs": [],
   "source": [
    "sess = tf.Session()\n",
    "sess.run(tf.global_variables_initializer())\n",
    "saver = tf.train.Saver()"
   ]
  },
  {
   "cell_type": "code",
   "execution_count": 9,
   "metadata": {
    "collapsed": true
   },
   "outputs": [],
   "source": [
    "# f = open('data/word_embedding', 'rb')\n",
    "# word_embedding = pickle.load(f)\n",
    "# f.close()\n",
    "# sess.run(embedding_init, feed_dict={embedding_placeholder:word_embedding})\n",
    "# word_embedding_saver.save(sess, word_embd_dir + '/word_embd')"
   ]
  },
  {
   "cell_type": "code",
   "execution_count": 10,
   "metadata": {
    "collapsed": true
   },
   "outputs": [],
   "source": [
    "# model = tf.train.latest_checkpoint(model_dir)\n",
    "# saver.restore(sess, model)"
   ]
  },
  {
   "cell_type": "code",
   "execution_count": 11,
   "metadata": {
    "scrolled": true
   },
   "outputs": [
    {
     "name": "stdout",
     "output_type": "stream",
     "text": [
      "INFO:tensorflow:Restoring parameters from checkpoint/word_embd/word_embd\n"
     ]
    }
   ],
   "source": [
    "latest_embd = tf.train.latest_checkpoint(word_embd_dir)\n",
    "word_embedding_saver.restore(sess, latest_embd)"
   ]
  },
  {
   "cell_type": "code",
   "execution_count": 12,
   "metadata": {
    "collapsed": true
   },
   "outputs": [],
   "source": [
    "f = open('data/train_lca_paths', 'rb')\n",
    "word_p, dep_p, pos_p = pickle.load(f)\n",
    "f.close()\n",
    "relations = []\n",
    "for line in open('data/train_relations.txt'):\n",
    "    relations.append(line.strip().split()[1])\n",
    "\n",
    "length = len(word_p)\n",
    "num_batches = int(length/batch_size)\n",
    "\n",
    "for i in range(length):\n",
    "    for j, word in enumerate(word_p[i]):\n",
    "        word = word.lower()\n",
    "        word_p[i][j] = word if word in word2id else unknown_token \n",
    "    for l, d in enumerate(dep_p[i]):\n",
    "        dep_p[i][l] = d if d in dep2id else 'OTH'\n",
    "        \n",
    "word_p_ids = np.ones([length, max_len_path],dtype=int)\n",
    "pos_p_ids = np.ones([length, max_len_path],dtype=int)\n",
    "dep_p_ids = np.ones([length, max_len_path],dtype=int)\n",
    "rel_ids = np.array([rel2id[rel] for rel in relations])\n",
    "path_len = np.array([len(w) for w in word_p], dtype=int)\n",
    "\n",
    "for i in range(length):\n",
    "    for j, w in enumerate(word_p[i]):\n",
    "        word_p_ids[i][j] = word2id[w]\n",
    "        \n",
    "    for j, w in enumerate(pos_p[i]):\n",
    "        pos_p_ids[i][j] = pos_tag(w)\n",
    "        \n",
    "    for j, w in enumerate(dep_p[i]):\n",
    "        dep_p_ids[i][j] = dep2id[w]"
   ]
  },
  {
   "cell_type": "code",
   "execution_count": 13,
   "metadata": {
    "scrolled": true
   },
   "outputs": [
    {
     "name": "stdout",
     "output_type": "stream",
     "text": [
      "Epoch: 1 Step: 800 loss: 2.85300489247\n",
      "Saved Model\n",
      "Epoch: 2 Step: 1600 loss: 2.73827668965\n",
      "Saved Model\n",
      "Epoch: 3 Step: 2400 loss: 2.70001435518\n",
      "Saved Model\n",
      "Epoch: 4 Step: 3200 loss: 2.68624746531\n",
      "Saved Model\n",
      "Epoch: 5 Step: 4000 loss: 2.68042603165\n",
      "Saved Model\n",
      "Epoch: 6 Step: 4800 loss: 2.67750604913\n",
      "Saved Model\n",
      "Epoch: 7 Step: 5600 loss: 2.67583220631\n",
      "Saved Model\n",
      "Epoch: 8 Step: 6400 loss: 2.67482194766\n",
      "Saved Model\n",
      "Epoch: 9 Step: 7200 loss: 2.67411908716\n",
      "Saved Model\n",
      "Epoch: 10 Step: 8000 loss: 2.67369878128\n",
      "Saved Model\n"
     ]
    }
   ],
   "source": [
    "num_epochs = 10\n",
    "for i in range(num_epochs):\n",
    "    loss_per_epoch = 0\n",
    "    for j in range(num_batches):\n",
    "        feed_dict = {\n",
    "            path_length:path_len[j*batch_size:(j+1)*batch_size],\n",
    "            word_ids:word_p_ids[j*batch_size:(j+1)*batch_size],\n",
    "            pos_ids:pos_p_ids[j*batch_size:(j+1)*batch_size],\n",
    "            dep_ids:dep_p_ids[j*batch_size:(j+1)*batch_size],\n",
    "            y:rel_ids[j*batch_size:(j+1)*batch_size]}\n",
    "        _, _loss, step = sess.run([optimizer, total_loss, global_step], feed_dict)\n",
    "        loss_per_epoch +=_loss\n",
    "        if (j+1)%num_batches==0:\n",
    "            print(\"Epoch:\", i+1,\"Step:\", step, \"loss:\",loss_per_epoch/num_batches)\n",
    "    saver.save(sess, model_dir + '/model')\n",
    "    print(\"Saved Model\")"
   ]
  },
  {
   "cell_type": "code",
   "execution_count": null,
   "metadata": {
    "collapsed": true,
    "scrolled": false
   },
   "outputs": [],
   "source": [
    "# training accuracy\n",
    "all_predictions = []\n",
    "for j in range(num_batches):\n",
    "     feed_dict = {\n",
    "            path_length:path_len[j*batch_size:(j+1)*batch_size],\n",
    "            word_ids:word_p_ids[j*batch_size:(j+1)*batch_size],\n",
    "            pos_ids:pos_p_ids[j*batch_size:(j+1)*batch_size],\n",
    "            dep_ids:dep_p_ids[j*batch_size:(j+1)*batch_size],\n",
    "            y:rel_ids[j*batch_size:(j+1)*batch_size]}\n",
    "    batch_predictions = sess.run(predictions, feed_dict)\n",
    "    all_predictions.append(batch_predictions)\n",
    "\n",
    "y_pred = []\n",
    "for i in range(num_batches):\n",
    "    for pred in all_predictions[i]:\n",
    "        y_pred.append(pred)\n",
    "\n",
    "count = 0\n",
    "for i in range(batch_size*num_batches):\n",
    "    count += y_pred[i]==rel_ids[i]\n",
    "accuracy = count/(batch_size*num_batches) * 100\n",
    "\n",
    "print(\"training accuracy\", accuracy)"
   ]
  },
  {
   "cell_type": "code",
   "execution_count": 25,
   "metadata": {},
   "outputs": [
    {
     "ename": "ValueError",
     "evalue": "Cannot feed value of shape (2, 10) for Tensor 'input_1/path1_length:0', which has shape '(10,)'",
     "output_type": "error",
     "traceback": [
      "\u001b[0;31m---------------------------------------------------------------------------\u001b[0m",
      "\u001b[0;31mValueError\u001b[0m                                Traceback (most recent call last)",
      "\u001b[0;32m<ipython-input-25-d81df71599e5>\u001b[0m in \u001b[0;36m<module>\u001b[0;34m()\u001b[0m\n\u001b[1;32m     48\u001b[0m         \u001b[0mdep_ids\u001b[0m\u001b[0;34m:\u001b[0m\u001b[0mdep_dict\u001b[0m\u001b[0;34m,\u001b[0m\u001b[0;34m\u001b[0m\u001b[0m\n\u001b[1;32m     49\u001b[0m         y:y_dict}\n\u001b[0;32m---> 50\u001b[0;31m     \u001b[0mbatch_predictions\u001b[0m \u001b[0;34m=\u001b[0m \u001b[0msess\u001b[0m\u001b[0;34m.\u001b[0m\u001b[0mrun\u001b[0m\u001b[0;34m(\u001b[0m\u001b[0mpredictions\u001b[0m\u001b[0;34m,\u001b[0m \u001b[0mfeed_dict\u001b[0m\u001b[0;34m)\u001b[0m\u001b[0;34m\u001b[0m\u001b[0m\n\u001b[0m\u001b[1;32m     51\u001b[0m     \u001b[0mall_predictions\u001b[0m\u001b[0;34m.\u001b[0m\u001b[0mappend\u001b[0m\u001b[0;34m(\u001b[0m\u001b[0mbatch_predictions\u001b[0m\u001b[0;34m)\u001b[0m\u001b[0;34m\u001b[0m\u001b[0m\n\u001b[1;32m     52\u001b[0m \u001b[0;34m\u001b[0m\u001b[0m\n",
      "\u001b[0;32m/home/shanu/virtualenv/tensorflow3/lib/python3.5/site-packages/tensorflow/python/client/session.py\u001b[0m in \u001b[0;36mrun\u001b[0;34m(self, fetches, feed_dict, options, run_metadata)\u001b[0m\n\u001b[1;32m    776\u001b[0m     \u001b[0;32mtry\u001b[0m\u001b[0;34m:\u001b[0m\u001b[0;34m\u001b[0m\u001b[0m\n\u001b[1;32m    777\u001b[0m       result = self._run(None, fetches, feed_dict, options_ptr,\n\u001b[0;32m--> 778\u001b[0;31m                          run_metadata_ptr)\n\u001b[0m\u001b[1;32m    779\u001b[0m       \u001b[0;32mif\u001b[0m \u001b[0mrun_metadata\u001b[0m\u001b[0;34m:\u001b[0m\u001b[0;34m\u001b[0m\u001b[0m\n\u001b[1;32m    780\u001b[0m         \u001b[0mproto_data\u001b[0m \u001b[0;34m=\u001b[0m \u001b[0mtf_session\u001b[0m\u001b[0;34m.\u001b[0m\u001b[0mTF_GetBuffer\u001b[0m\u001b[0;34m(\u001b[0m\u001b[0mrun_metadata_ptr\u001b[0m\u001b[0;34m)\u001b[0m\u001b[0;34m\u001b[0m\u001b[0m\n",
      "\u001b[0;32m/home/shanu/virtualenv/tensorflow3/lib/python3.5/site-packages/tensorflow/python/client/session.py\u001b[0m in \u001b[0;36m_run\u001b[0;34m(self, handle, fetches, feed_dict, options, run_metadata)\u001b[0m\n\u001b[1;32m    959\u001b[0m                 \u001b[0;34m'Cannot feed value of shape %r for Tensor %r, '\u001b[0m\u001b[0;34m\u001b[0m\u001b[0m\n\u001b[1;32m    960\u001b[0m                 \u001b[0;34m'which has shape %r'\u001b[0m\u001b[0;34m\u001b[0m\u001b[0m\n\u001b[0;32m--> 961\u001b[0;31m                 % (np_val.shape, subfeed_t.name, str(subfeed_t.get_shape())))\n\u001b[0m\u001b[1;32m    962\u001b[0m           \u001b[0;32mif\u001b[0m \u001b[0;32mnot\u001b[0m \u001b[0mself\u001b[0m\u001b[0;34m.\u001b[0m\u001b[0mgraph\u001b[0m\u001b[0;34m.\u001b[0m\u001b[0mis_feedable\u001b[0m\u001b[0;34m(\u001b[0m\u001b[0msubfeed_t\u001b[0m\u001b[0;34m)\u001b[0m\u001b[0;34m:\u001b[0m\u001b[0;34m\u001b[0m\u001b[0m\n\u001b[1;32m    963\u001b[0m             \u001b[0;32mraise\u001b[0m \u001b[0mValueError\u001b[0m\u001b[0;34m(\u001b[0m\u001b[0;34m'Tensor %s may not be fed.'\u001b[0m \u001b[0;34m%\u001b[0m \u001b[0msubfeed_t\u001b[0m\u001b[0;34m)\u001b[0m\u001b[0;34m\u001b[0m\u001b[0m\n",
      "\u001b[0;31mValueError\u001b[0m: Cannot feed value of shape (2, 10) for Tensor 'input_1/path1_length:0', which has shape '(10,)'"
     ]
    }
   ],
   "source": [
    "f = open('data/test_lca_paths', 'rb')\n",
    "word_p, dep_p, pos_p = pickle.load(f)\n",
    "f.close()\n",
    "\n",
    "relations = []\n",
    "for line in open('data/test_relations.txt'):\n",
    "    relations.append(line.strip().split()[0])\n",
    "\n",
    "length = len(word_p1)\n",
    "num_batches = int(length/batch_size)\n",
    "\n",
    "for i in range(length):\n",
    "    for j, word in enumerate(word_p[i]):\n",
    "        word = word.lower()\n",
    "        word_p[i][j] = word if word in word2id else unknown_token \n",
    "    for l, d in enumerate(dep_p[i]):\n",
    "        dep_p[i][l] = d if d in dep2id else 'OTH'\n",
    "        \n",
    "word_p_ids = np.ones([length, max_len_path],dtype=int)\n",
    "pos_p_ids = np.ones([length, max_len_path],dtype=int)\n",
    "dep_p_ids = np.ones([length, max_len_path],dtype=int)\n",
    "rel_ids = np.array([rel2id[rel] for rel in relations])\n",
    "path_len = np.array([len(w) for w in word_p], dtype=int)\n",
    "\n",
    "for i in range(length):\n",
    "    for j, w in enumerate(word_p[i]):\n",
    "        word_p_ids[i][j] = word2id[w]\n",
    "        \n",
    "    for j, w in enumerate(pos_p[i]):\n",
    "        pos_p_ids[i][j] = pos_tag(w)\n",
    "        \n",
    "    for j, w in enumerate(dep_p[i]):\n",
    "        dep_p_ids[i][j] = dep2id[w]\n",
    "\n",
    "# test predictions\n",
    "all_predictions = []\n",
    "for j in range(num_batches):\n",
    "     feed_dict = {\n",
    "            path_length:path_len[j*batch_size:(j+1)*batch_size],\n",
    "            word_ids:word_p_ids[j*batch_size:(j+1)*batch_size],\n",
    "            pos_ids:pos_p_ids[j*batch_size:(j+1)*batch_size],\n",
    "            dep_ids:dep_p_ids[j*batch_size:(j+1)*batch_size],\n",
    "            y:rel_ids[j*batch_size:(j+1)*batch_size]}\n",
    "    batch_predictions = sess.run(predictions, feed_dict)\n",
    "    all_predictions.append(batch_predictions)\n",
    "\n",
    "y_pred = []\n",
    "for i in range(num_batches):\n",
    "    for pred in all_predictions[i]:\n",
    "        y_pred.append(pred)\n",
    "\n",
    "count = 0\n",
    "for i in range(batch_size*num_batches):\n",
    "    count += y_pred[i]==rel_ids[i]\n",
    "accuracy = count/(batch_size*num_batches) * 100\n",
    "\n",
    "print(\"test accuracy\", accuracy)"
   ]
  },
  {
   "cell_type": "code",
   "execution_count": null,
   "metadata": {
    "collapsed": true
   },
   "outputs": [],
   "source": []
  }
 ],
 "metadata": {
  "kernelspec": {
   "display_name": "Python 3",
   "language": "python",
   "name": "python3"
  },
  "language_info": {
   "codemirror_mode": {
    "name": "ipython",
    "version": 3
   },
   "file_extension": ".py",
   "mimetype": "text/x-python",
   "name": "python",
   "nbconvert_exporter": "python",
   "pygments_lexer": "ipython3",
   "version": "3.5.2"
  }
 },
 "nbformat": 4,
 "nbformat_minor": 2
}

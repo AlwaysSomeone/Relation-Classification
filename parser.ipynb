{
 "cells": [
  {
   "cell_type": "code",
   "execution_count": 8,
   "metadata": {
    "collapsed": true
   },
   "outputs": [],
   "source": [
    "import os\n",
    "from nltk.parse import stanford\n",
    "import nltk\n",
    "os.environ['STANFORD_PARSER'] = '/home/shanu/nltk/jars/stanford-parser.jar'\n",
    "os.environ['STANFORD_MODELS'] = '/home/shanu/nltk/jars/stanford-parser-3.7.0-models.jar'"
   ]
  },
  {
   "cell_type": "code",
   "execution_count": 9,
   "metadata": {
    "collapsed": true
   },
   "outputs": [],
   "source": [
    "# # Parse Tree\n",
    "# parser = stanford.StanfordParser(model_path=\"/home/shanu/nltk/jars/englishPCFG.ser.gz\")\n",
    "# list(parser.raw_parse(\"the quick brown fox jumps over the lazy dog\"))"
   ]
  },
  {
   "cell_type": "code",
   "execution_count": 10,
   "metadata": {
    "collapsed": true
   },
   "outputs": [],
   "source": [
    "# Dependency Tree\n",
    "from nltk.parse.stanford import StanfordDependencyParser\n",
    "dep_parser=StanfordDependencyParser(model_path=\"/home/shanu/nltk/jars/englishPCFG.ser.gz\")"
   ]
  },
  {
   "cell_type": "code",
   "execution_count": 11,
   "metadata": {
    "collapsed": true
   },
   "outputs": [],
   "source": [
    "def lca(tree, index1, index2):\n",
    "    node = index1\n",
    "    path1 = []\n",
    "    path2 = []\n",
    "    path1.append(index1)\n",
    "    path2.append(index2)\n",
    "    while(node != tree.root):\n",
    "        node = tree.nodes[node['head']]\n",
    "        path1.append(node)\n",
    "    node = index2\n",
    "    while(node != tree.root):\n",
    "        node = tree.nodes[node['head']]\n",
    "        path2.append(node)\n",
    "    for l1, l2 in zip(path1[::-1],path2[::-1]):\n",
    "        if(l1==l2):\n",
    "            temp = l1\n",
    "    return temp"
   ]
  },
  {
   "cell_type": "code",
   "execution_count": 12,
   "metadata": {
    "collapsed": true
   },
   "outputs": [],
   "source": [
    "def path_lca(tree, node, lca_node):\n",
    "    path = []\n",
    "    path.append(node)\n",
    "    while(node != lca_node):\n",
    "        node = tree.nodes[node['head']]\n",
    "        path.append(node)\n",
    "    return path"
   ]
  },
  {
   "cell_type": "code",
   "execution_count": 13,
   "metadata": {
    "collapsed": true
   },
   "outputs": [],
   "source": [
    "import _pickle \n",
    "f = open('data/training_data', 'rb')\n",
    "sentences, e1, e2 = _pickle.load(f)\n",
    "f.close()"
   ]
  },
  {
   "cell_type": "code",
   "execution_count": 14,
   "metadata": {
    "scrolled": true
   },
   "outputs": [
    {
     "data": {
      "text/plain": [
       "('Governments , frightened of losing votes , resolved the crisis through subsidization .',\n",
       " 0,\n",
       " 11)"
      ]
     },
     "execution_count": 14,
     "metadata": {},
     "output_type": "execute_result"
    }
   ],
   "source": [
    "i=219\n",
    "sentences[i], e1[i], e2[i]"
   ]
  },
  {
   "cell_type": "code",
   "execution_count": 15,
   "metadata": {},
   "outputs": [
    {
     "name": "stdout",
     "output_type": "stream",
     "text": [
      "0 Governments\n",
      "1 ,\n",
      "2 frightened\n",
      "3 of\n",
      "4 losing\n",
      "5 votes\n",
      "6 ,\n",
      "7 resolved\n",
      "8 the\n",
      "9 crisis\n",
      "10 through\n",
      "11 subsidization\n",
      "12 .\n"
     ]
    }
   ],
   "source": [
    "tokenized_line = nltk.word_tokenize(sentences[])\n",
    "for j, word in enumerate(tokenized_line):\n",
    "    print(j, word)"
   ]
  },
  {
   "cell_type": "code",
   "execution_count": 16,
   "metadata": {
    "collapsed": true
   },
   "outputs": [],
   "source": [
    " parse_tree = dep_parser.raw_parse(sentences[i])\n",
    "for trees in parse_tree:\n",
    "    tree = trees\n",
    "    t = trees.tree()"
   ]
  },
  {
   "cell_type": "code",
   "execution_count": 17,
   "metadata": {},
   "outputs": [
    {
     "data": {
      "image/png": "[encoded data removed]",
      "text/plain": [
       "Tree('resolved', [Tree('Governments', [Tree('frightened', [Tree('losing', ['of', 'votes'])])]), Tree('crisis', ['the']), Tree('subsidization', ['through'])])"
      ]
     },
     "execution_count": 17,
     "metadata": {},
     "output_type": "execute_result"
    }
   ],
   "source": [
    "t"
   ]
  },
  {
   "cell_type": "code",
   "execution_count": 18,
   "metadata": {
    "scrolled": false
   },
   "outputs": [],
   "source": [
    "# print(tree)"
   ]
  },
  {
   "cell_type": "code",
   "execution_count": 20,
   "metadata": {
    "collapsed": true
   },
   "outputs": [],
   "source": [
    "word_path1 = []\n",
    "word_path2 = []\n",
    "rel_path1 = []\n",
    "rel_path2 = []\n",
    "pos_path1 = []\n",
    "pos_path2 = []\n",
    "for i in range(8000):\n",
    "    word_path1.append(0)\n",
    "    word_path2.append(0)\n",
    "    rel_path1.append(0)\n",
    "    rel_path2.append(0)\n",
    "    pos_path1.append(0)\n",
    "    pos_path2.append(0)"
   ]
  },
  {
   "cell_type": "code",
   "execution_count": 21,
   "metadata": {},
   "outputs": [
    {
     "data": {
      "text/plain": [
       "8000"
      ]
     },
     "execution_count": 21,
     "metadata": {},
     "output_type": "execute_result"
    }
   ],
   "source": [
    "len(word_path1)"
   ]
  },
  {
   "cell_type": "code",
   "execution_count": 22,
   "metadata": {},
   "outputs": [
    {
     "data": {
      "text/plain": [
       "(8000, 8000, 8000)"
      ]
     },
     "execution_count": 22,
     "metadata": {},
     "output_type": "execute_result"
    }
   ],
   "source": [
    "len(sentences), len(e1), len(e2)"
   ]
  },
  {
   "cell_type": "code",
   "execution_count": 25,
   "metadata": {
    "scrolled": true
   },
   "outputs": [
    {
     "data": {
      "text/plain": [
       "\"This strawberry sauce has about a million uses , is freezer-friendly , and is so much better than that jar of Smuckers strawberry sauce that you 've had sitting in your fridge since that time you made banana splits 1\\xa01/2 years ago .\""
      ]
     },
     "execution_count": 25,
     "metadata": {},
     "output_type": "execute_result"
    }
   ],
   "source": [
    "sentences[2608]"
   ]
  },
  {
   "cell_type": "code",
   "execution_count": 37,
   "metadata": {},
   "outputs": [],
   "source": [
    "i = 7588"
   ]
  },
  {
   "cell_type": "code",
   "execution_count": 38,
   "metadata": {
    "scrolled": true
   },
   "outputs": [
    {
     "name": "stdout",
     "output_type": "stream",
     "text": [
      "7588 success\n"
     ]
    }
   ],
   "source": [
    "for i in range(8000):\n",
    "    try:\n",
    "        parse_tree = dep_parser.raw_parse(sentences[i])\n",
    "        for trees in parse_tree:\n",
    "            tree = trees\n",
    "        node1 = tree.nodes[e1[i]+1]\n",
    "        node2 = tree.nodes[e2[i]+1]\n",
    "        if node1['address']!=None and node2['address']!=None:\n",
    "            print(i, \"success\")\n",
    "            lca_node = lca(tree, node1, node2)\n",
    "            path1 = path_lca(tree, node1, lca_node)\n",
    "            path2 = path_lca(tree, node2, lca_node)\n",
    "\n",
    "            word_path1[i] = [p[\"word\"] for p in path1]\n",
    "            word_path2[i] = [p[\"word\"] for p in path2]\n",
    "            rel_path1[i] = [p[\"rel\"] for p in path1]\n",
    "            rel_path2[i] = [p[\"rel\"] for p in path2]\n",
    "            pos_path1[i] = [p[\"tag\"] for p in path1]\n",
    "            pos_path2[i] = [p[\"tag\"] for p in path2]\n",
    "        else:\n",
    "            print(i, node1[\"address\"], node2[\"address\"])\n",
    "    except AssertionError:\n",
    "        print(i, \"error\")\n",
    "    "
   ]
  },
  {
   "cell_type": "code",
   "execution_count": 39,
   "metadata": {
    "collapsed": true
   },
   "outputs": [],
   "source": [
    "file = open('train_paths', 'wb')\n",
    "_pickle.dump([word_path1, word_path2, rel_path1, rel_path2, pos_path1, pos_path2], file)"
   ]
  },
  {
   "cell_type": "code",
   "execution_count": null,
   "metadata": {
    "collapsed": true
   },
   "outputs": [],
   "source": [
    "7588, "
   ]
  },
  {
   "cell_type": "code",
   "execution_count": 27,
   "metadata": {
    "collapsed": true
   },
   "outputs": [],
   "source": [
    "sentences[2608] = \"This strawberry sauce has about a million uses , is freezer-friendly , and is so much better than that jar of Smuckers strawberry sauce that you 've had sitting in your fridge since that time you made banana splits 1.5 years ago .\""
   ]
  },
  {
   "cell_type": "code",
   "execution_count": 33,
   "metadata": {},
   "outputs": [],
   "source": [
    "sentences[7588] = 'The reaction mixture is kept in the dark at room temperature for 1.5 hours .'"
   ]
  },
  {
   "cell_type": "code",
   "execution_count": 34,
   "metadata": {},
   "outputs": [],
   "source": [
    "try:\n",
    "    parse_tree = dep_parser.raw_parse(sentences[i])\n",
    "except AssertionError:\n",
    "    print(\"error\")"
   ]
  },
  {
   "cell_type": "code",
   "execution_count": 48,
   "metadata": {},
   "outputs": [
    {
     "ename": "AssertionError",
     "evalue": "",
     "output_type": "error",
     "traceback": [
      "\u001b[0;31m---------------------------------------------------------------------------\u001b[0m",
      "\u001b[0;31mAssertionError\u001b[0m                            Traceback (most recent call last)",
      "\u001b[0;32m<ipython-input-48-1b72cc5892da>\u001b[0m in \u001b[0;36m<module>\u001b[0;34m()\u001b[0m\n\u001b[0;32m----> 1\u001b[0;31m \u001b[0mparse_tree\u001b[0m \u001b[0;34m=\u001b[0m \u001b[0mdep_parser\u001b[0m\u001b[0;34m.\u001b[0m\u001b[0mraw_parse\u001b[0m\u001b[0;34m(\u001b[0m\u001b[0msentences\u001b[0m\u001b[0;34m[\u001b[0m\u001b[0mi\u001b[0m\u001b[0;34m]\u001b[0m\u001b[0;34m)\u001b[0m\u001b[0;34m\u001b[0m\u001b[0m\n\u001b[0m\u001b[1;32m      2\u001b[0m \u001b[0;32mfor\u001b[0m \u001b[0mtrees\u001b[0m \u001b[0;32min\u001b[0m \u001b[0mparse_tree\u001b[0m\u001b[0;34m:\u001b[0m\u001b[0;34m\u001b[0m\u001b[0m\n\u001b[1;32m      3\u001b[0m     \u001b[0mtree\u001b[0m \u001b[0;34m=\u001b[0m \u001b[0mtrees\u001b[0m\u001b[0;34m\u001b[0m\u001b[0m\n\u001b[1;32m      4\u001b[0m \u001b[0mnode1\u001b[0m \u001b[0;34m=\u001b[0m \u001b[0mtree\u001b[0m\u001b[0;34m.\u001b[0m\u001b[0mnodes\u001b[0m\u001b[0;34m[\u001b[0m\u001b[0me1\u001b[0m\u001b[0;34m[\u001b[0m\u001b[0mi\u001b[0m\u001b[0;34m]\u001b[0m\u001b[0;34m+\u001b[0m\u001b[0;36m1\u001b[0m\u001b[0;34m]\u001b[0m\u001b[0;34m\u001b[0m\u001b[0m\n\u001b[1;32m      5\u001b[0m \u001b[0mnode2\u001b[0m \u001b[0;34m=\u001b[0m \u001b[0mtree\u001b[0m\u001b[0;34m.\u001b[0m\u001b[0mnodes\u001b[0m\u001b[0;34m[\u001b[0m\u001b[0me2\u001b[0m\u001b[0;34m[\u001b[0m\u001b[0mi\u001b[0m\u001b[0;34m]\u001b[0m\u001b[0;34m+\u001b[0m\u001b[0;36m1\u001b[0m\u001b[0;34m]\u001b[0m\u001b[0;34m\u001b[0m\u001b[0m\n",
      "\u001b[0;32m/home/shanu/virtualenv/tensorflow3/lib/python3.5/site-packages/nltk/parse/stanford.py\u001b[0m in \u001b[0;36mraw_parse\u001b[0;34m(self, sentence, verbose)\u001b[0m\n\u001b[1;32m    132\u001b[0m         \u001b[0;34m:\u001b[0m\u001b[0mrtype\u001b[0m\u001b[0;34m:\u001b[0m \u001b[0miter\u001b[0m\u001b[0;34m(\u001b[0m\u001b[0mTree\u001b[0m\u001b[0;34m)\u001b[0m\u001b[0;34m\u001b[0m\u001b[0m\n\u001b[1;32m    133\u001b[0m         \"\"\"\n\u001b[0;32m--> 134\u001b[0;31m         \u001b[0;32mreturn\u001b[0m \u001b[0mnext\u001b[0m\u001b[0;34m(\u001b[0m\u001b[0mself\u001b[0m\u001b[0;34m.\u001b[0m\u001b[0mraw_parse_sents\u001b[0m\u001b[0;34m(\u001b[0m\u001b[0;34m[\u001b[0m\u001b[0msentence\u001b[0m\u001b[0;34m]\u001b[0m\u001b[0;34m,\u001b[0m \u001b[0mverbose\u001b[0m\u001b[0;34m)\u001b[0m\u001b[0;34m)\u001b[0m\u001b[0;34m\u001b[0m\u001b[0m\n\u001b[0m\u001b[1;32m    135\u001b[0m \u001b[0;34m\u001b[0m\u001b[0m\n\u001b[1;32m    136\u001b[0m     \u001b[0;32mdef\u001b[0m \u001b[0mraw_parse_sents\u001b[0m\u001b[0;34m(\u001b[0m\u001b[0mself\u001b[0m\u001b[0;34m,\u001b[0m \u001b[0msentences\u001b[0m\u001b[0;34m,\u001b[0m \u001b[0mverbose\u001b[0m\u001b[0;34m=\u001b[0m\u001b[0;32mFalse\u001b[0m\u001b[0;34m)\u001b[0m\u001b[0;34m:\u001b[0m\u001b[0;34m\u001b[0m\u001b[0m\n",
      "\u001b[0;32m/home/shanu/virtualenv/tensorflow3/lib/python3.5/site-packages/nltk/parse/stanford.py\u001b[0m in \u001b[0;36mraw_parse_sents\u001b[0;34m(self, sentences, verbose)\u001b[0m\n\u001b[1;32m    150\u001b[0m             \u001b[0;34m'-outputFormat'\u001b[0m\u001b[0;34m,\u001b[0m \u001b[0mself\u001b[0m\u001b[0;34m.\u001b[0m\u001b[0m_OUTPUT_FORMAT\u001b[0m\u001b[0;34m,\u001b[0m\u001b[0;34m\u001b[0m\u001b[0m\n\u001b[1;32m    151\u001b[0m         ]\n\u001b[0;32m--> 152\u001b[0;31m         \u001b[0;32mreturn\u001b[0m \u001b[0mself\u001b[0m\u001b[0;34m.\u001b[0m\u001b[0m_parse_trees_output\u001b[0m\u001b[0;34m(\u001b[0m\u001b[0mself\u001b[0m\u001b[0;34m.\u001b[0m\u001b[0m_execute\u001b[0m\u001b[0;34m(\u001b[0m\u001b[0mcmd\u001b[0m\u001b[0;34m,\u001b[0m \u001b[0;34m'\\n'\u001b[0m\u001b[0;34m.\u001b[0m\u001b[0mjoin\u001b[0m\u001b[0;34m(\u001b[0m\u001b[0msentences\u001b[0m\u001b[0;34m)\u001b[0m\u001b[0;34m,\u001b[0m \u001b[0mverbose\u001b[0m\u001b[0;34m)\u001b[0m\u001b[0;34m)\u001b[0m\u001b[0;34m\u001b[0m\u001b[0m\n\u001b[0m\u001b[1;32m    153\u001b[0m \u001b[0;34m\u001b[0m\u001b[0m\n\u001b[1;32m    154\u001b[0m     \u001b[0;32mdef\u001b[0m \u001b[0mtagged_parse\u001b[0m\u001b[0;34m(\u001b[0m\u001b[0mself\u001b[0m\u001b[0;34m,\u001b[0m \u001b[0msentence\u001b[0m\u001b[0;34m,\u001b[0m \u001b[0mverbose\u001b[0m\u001b[0;34m=\u001b[0m\u001b[0;32mFalse\u001b[0m\u001b[0;34m)\u001b[0m\u001b[0;34m:\u001b[0m\u001b[0;34m\u001b[0m\u001b[0m\n",
      "\u001b[0;32m/home/shanu/virtualenv/tensorflow3/lib/python3.5/site-packages/nltk/parse/stanford.py\u001b[0m in \u001b[0;36m_parse_trees_output\u001b[0;34m(self, output_)\u001b[0m\n\u001b[1;32m     91\u001b[0m                     \u001b[0mblank\u001b[0m \u001b[0;34m=\u001b[0m \u001b[0;32mTrue\u001b[0m\u001b[0;34m\u001b[0m\u001b[0m\n\u001b[1;32m     92\u001b[0m                 \u001b[0;32melse\u001b[0m\u001b[0;34m:\u001b[0m\u001b[0;34m\u001b[0m\u001b[0m\n\u001b[0;32m---> 93\u001b[0;31m                     \u001b[0mres\u001b[0m\u001b[0;34m.\u001b[0m\u001b[0mappend\u001b[0m\u001b[0;34m(\u001b[0m\u001b[0miter\u001b[0m\u001b[0;34m(\u001b[0m\u001b[0;34m[\u001b[0m\u001b[0mself\u001b[0m\u001b[0;34m.\u001b[0m\u001b[0m_make_tree\u001b[0m\u001b[0;34m(\u001b[0m\u001b[0;34m'\\n'\u001b[0m\u001b[0;34m.\u001b[0m\u001b[0mjoin\u001b[0m\u001b[0;34m(\u001b[0m\u001b[0mcur_lines\u001b[0m\u001b[0;34m)\u001b[0m\u001b[0;34m)\u001b[0m\u001b[0;34m]\u001b[0m\u001b[0;34m)\u001b[0m\u001b[0;34m)\u001b[0m\u001b[0;34m\u001b[0m\u001b[0m\n\u001b[0m\u001b[1;32m     94\u001b[0m                     \u001b[0mcur_lines\u001b[0m \u001b[0;34m=\u001b[0m \u001b[0;34m[\u001b[0m\u001b[0;34m]\u001b[0m\u001b[0;34m\u001b[0m\u001b[0m\n\u001b[1;32m     95\u001b[0m             \u001b[0;32melse\u001b[0m\u001b[0;34m:\u001b[0m\u001b[0;34m\u001b[0m\u001b[0m\n",
      "\u001b[0;32m/home/shanu/virtualenv/tensorflow3/lib/python3.5/site-packages/nltk/parse/stanford.py\u001b[0m in \u001b[0;36m_make_tree\u001b[0;34m(self, result)\u001b[0m\n\u001b[1;32m    339\u001b[0m \u001b[0;34m\u001b[0m\u001b[0m\n\u001b[1;32m    340\u001b[0m     \u001b[0;32mdef\u001b[0m \u001b[0m_make_tree\u001b[0m\u001b[0;34m(\u001b[0m\u001b[0mself\u001b[0m\u001b[0;34m,\u001b[0m \u001b[0mresult\u001b[0m\u001b[0;34m)\u001b[0m\u001b[0;34m:\u001b[0m\u001b[0;34m\u001b[0m\u001b[0m\n\u001b[0;32m--> 341\u001b[0;31m         \u001b[0;32mreturn\u001b[0m \u001b[0mDependencyGraph\u001b[0m\u001b[0;34m(\u001b[0m\u001b[0mresult\u001b[0m\u001b[0;34m,\u001b[0m \u001b[0mtop_relation_label\u001b[0m\u001b[0;34m=\u001b[0m\u001b[0;34m'root'\u001b[0m\u001b[0;34m)\u001b[0m\u001b[0;34m\u001b[0m\u001b[0m\n\u001b[0m\u001b[1;32m    342\u001b[0m \u001b[0;34m\u001b[0m\u001b[0m\n\u001b[1;32m    343\u001b[0m \u001b[0;34m\u001b[0m\u001b[0m\n",
      "\u001b[0;32m/home/shanu/virtualenv/tensorflow3/lib/python3.5/site-packages/nltk/parse/dependencygraph.py\u001b[0m in \u001b[0;36m__init__\u001b[0;34m(self, tree_str, cell_extractor, zero_based, cell_separator, top_relation_label)\u001b[0m\n\u001b[1;32m     84\u001b[0m                 \u001b[0mzero_based\u001b[0m\u001b[0;34m=\u001b[0m\u001b[0mzero_based\u001b[0m\u001b[0;34m,\u001b[0m\u001b[0;34m\u001b[0m\u001b[0m\n\u001b[1;32m     85\u001b[0m                 \u001b[0mcell_separator\u001b[0m\u001b[0;34m=\u001b[0m\u001b[0mcell_separator\u001b[0m\u001b[0;34m,\u001b[0m\u001b[0;34m\u001b[0m\u001b[0m\n\u001b[0;32m---> 86\u001b[0;31m                 \u001b[0mtop_relation_label\u001b[0m\u001b[0;34m=\u001b[0m\u001b[0mtop_relation_label\u001b[0m\u001b[0;34m,\u001b[0m\u001b[0;34m\u001b[0m\u001b[0m\n\u001b[0m\u001b[1;32m     87\u001b[0m             )\n\u001b[1;32m     88\u001b[0m \u001b[0;34m\u001b[0m\u001b[0m\n",
      "\u001b[0;32m/home/shanu/virtualenv/tensorflow3/lib/python3.5/site-packages/nltk/parse/dependencygraph.py\u001b[0m in \u001b[0;36m_parse\u001b[0;34m(self, input_, cell_extractor, zero_based, cell_separator, top_relation_label)\u001b[0m\n\u001b[1;32m    328\u001b[0m                 \u001b[0mcell_number\u001b[0m \u001b[0;34m=\u001b[0m \u001b[0mlen\u001b[0m\u001b[0;34m(\u001b[0m\u001b[0mcells\u001b[0m\u001b[0;34m)\u001b[0m\u001b[0;34m\u001b[0m\u001b[0m\n\u001b[1;32m    329\u001b[0m             \u001b[0;32melse\u001b[0m\u001b[0;34m:\u001b[0m\u001b[0;34m\u001b[0m\u001b[0m\n\u001b[0;32m--> 330\u001b[0;31m                 \u001b[0;32massert\u001b[0m \u001b[0mcell_number\u001b[0m \u001b[0;34m==\u001b[0m \u001b[0mlen\u001b[0m\u001b[0;34m(\u001b[0m\u001b[0mcells\u001b[0m\u001b[0;34m)\u001b[0m\u001b[0;34m\u001b[0m\u001b[0m\n\u001b[0m\u001b[1;32m    331\u001b[0m \u001b[0;34m\u001b[0m\u001b[0m\n\u001b[1;32m    332\u001b[0m             \u001b[0;32mif\u001b[0m \u001b[0mcell_extractor\u001b[0m \u001b[0;32mis\u001b[0m \u001b[0;32mNone\u001b[0m\u001b[0;34m:\u001b[0m\u001b[0;34m\u001b[0m\u001b[0m\n",
      "\u001b[0;31mAssertionError\u001b[0m: "
     ]
    }
   ],
   "source": [
    "for trees in parse_tree:\n",
    "    tree = trees\n",
    "node1 = tree.nodes[e1[i]+1]\n",
    "node2 = tree.nodes[e2[i]+1]\n",
    "if node1['address']!=None and node2['address']!=None:\n",
    "    print(i, \"success\")\n",
    "    lca_node = lca(tree, node1, node2)\n",
    "    path1 = path_lca(tree, node1, lca_node)\n",
    "    path2 = path_lca(tree, node2, lca_node)\n",
    "\n",
    "    word_path1.append([p[\"word\"] for p in path1])\n",
    "    word_path2.append([p[\"word\"] for p in path2])\n",
    "    rel_path1.append([p[\"rel\"] for p in path1])\n",
    "    rel_path2.append([p[\"rel\"] for p in path2])\n",
    "    pos_path1.append([p[\"tag\"] for p in path1])\n",
    "    pos_path2.append([p[\"tag\"] for p in path2])\n",
    "else:\n",
    "    print(i)"
   ]
  },
  {
   "cell_type": "code",
   "execution_count": 41,
   "metadata": {},
   "outputs": [
    {
     "data": {
      "text/plain": [
       "'Governments , frightened of losing votes , resolved the crisis through subsidization .'"
      ]
     },
     "execution_count": 41,
     "metadata": {},
     "output_type": "execute_result"
    }
   ],
   "source": [
    "sentences[219]"
   ]
  },
  {
   "cell_type": "code",
   "execution_count": null,
   "metadata": {
    "collapsed": true
   },
   "outputs": [],
   "source": []
  },
  {
   "cell_type": "code",
   "execution_count": 695,
   "metadata": {
    "collapsed": true
   },
   "outputs": [],
   "source": [
    "t = dep_parser.raw_parse(sentences[0])\n",
    "for i in t:\n",
    "    tree = i"
   ]
  },
  {
   "cell_type": "code",
   "execution_count": 696,
   "metadata": {},
   "outputs": [
    {
     "data": {
      "text/plain": [
       "'The system as described above has its greatest application in an arrayed  configuration  of antenna  elements .'"
      ]
     },
     "execution_count": 696,
     "metadata": {},
     "output_type": "execute_result"
    }
   ],
   "source": [
    "sentences[0]"
   ]
  },
  {
   "cell_type": "code",
   "execution_count": 697,
   "metadata": {
    "scrolled": true
   },
   "outputs": [
    {
     "data": {
      "text/plain": [
       "{'address': 6,\n",
       " 'ctag': 'VBZ',\n",
       " 'deps': defaultdict(list, {'dobj': [9], 'nsubj': [2]}),\n",
       " 'feats': '_',\n",
       " 'head': 0,\n",
       " 'lemma': '_',\n",
       " 'rel': 'root',\n",
       " 'tag': 'VBZ',\n",
       " 'word': 'has'}"
      ]
     },
     "execution_count": 697,
     "metadata": {},
     "output_type": "execute_result"
    }
   ],
   "source": [
    "tree.root"
   ]
  },
  {
   "cell_type": "code",
   "execution_count": 702,
   "metadata": {},
   "outputs": [
    {
     "ename": "TypeError",
     "evalue": "list indices must be integers or slices, not DependencyGraph",
     "output_type": "error",
     "traceback": [
      "\u001b[0;31m---------------------------------------------------------------------------\u001b[0m",
      "\u001b[0;31mTypeError\u001b[0m                                 Traceback (most recent call last)",
      "\u001b[0;32m<ipython-input-702-00bc3bdb3bd5>\u001b[0m in \u001b[0;36m<module>\u001b[0;34m()\u001b[0m\n\u001b[0;32m----> 1\u001b[0;31m \u001b[0me1\u001b[0m\u001b[0;34m[\u001b[0m\u001b[0mi\u001b[0m\u001b[0;34m]\u001b[0m\u001b[0;34m\u001b[0m\u001b[0m\n\u001b[0m",
      "\u001b[0;31mTypeError\u001b[0m: list indices must be integers or slices, not DependencyGraph"
     ]
    }
   ],
   "source": [
    "e1[i]"
   ]
  },
  {
   "cell_type": "code",
   "execution_count": 700,
   "metadata": {},
   "outputs": [
    {
     "ename": "TypeError",
     "evalue": "list indices must be integers or slices, not DependencyGraph",
     "output_type": "error",
     "traceback": [
      "\u001b[0;31m---------------------------------------------------------------------------\u001b[0m",
      "\u001b[0;31mTypeError\u001b[0m                                 Traceback (most recent call last)",
      "\u001b[0;32m<ipython-input-700-05bc4e71435b>\u001b[0m in \u001b[0;36m<module>\u001b[0;34m()\u001b[0m\n\u001b[0;32m----> 1\u001b[0;31m \u001b[0mnode1\u001b[0m \u001b[0;34m=\u001b[0m \u001b[0mtree\u001b[0m\u001b[0;34m.\u001b[0m\u001b[0mnodes\u001b[0m\u001b[0;34m[\u001b[0m\u001b[0me1\u001b[0m\u001b[0;34m[\u001b[0m\u001b[0mi\u001b[0m\u001b[0;34m]\u001b[0m\u001b[0;34m[\u001b[0m\u001b[0;36m0\u001b[0m\u001b[0;34m]\u001b[0m\u001b[0;34m]\u001b[0m\u001b[0;34m\u001b[0m\u001b[0m\n\u001b[0m\u001b[1;32m      2\u001b[0m \u001b[0mnode2\u001b[0m \u001b[0;34m=\u001b[0m \u001b[0mtree\u001b[0m\u001b[0;34m.\u001b[0m\u001b[0mnodes\u001b[0m\u001b[0;34m[\u001b[0m\u001b[0me2\u001b[0m\u001b[0;34m[\u001b[0m\u001b[0;36m0\u001b[0m\u001b[0;34m]\u001b[0m\u001b[0;34m[\u001b[0m\u001b[0;36m0\u001b[0m\u001b[0;34m]\u001b[0m\u001b[0;34m]\u001b[0m\u001b[0;34m\u001b[0m\u001b[0m\n",
      "\u001b[0;31mTypeError\u001b[0m: list indices must be integers or slices, not DependencyGraph"
     ]
    }
   ],
   "source": [
    "node1 = tree.nodes[e1[i][0]]\n",
    "node2 = tree.nodes[e2[0][0]]"
   ]
  },
  {
   "cell_type": "code",
   "execution_count": 679,
   "metadata": {},
   "outputs": [
    {
     "ename": "AttributeError",
     "evalue": "'Tree' object has no attribute 'nodes'",
     "output_type": "error",
     "traceback": [
      "\u001b[0;31m---------------------------------------------------------------------------\u001b[0m",
      "\u001b[0;31mAttributeError\u001b[0m                            Traceback (most recent call last)",
      "\u001b[0;32m<ipython-input-679-9a0acf2869ff>\u001b[0m in \u001b[0;36m<module>\u001b[0;34m()\u001b[0m\n\u001b[1;32m      4\u001b[0m     \u001b[0mtree\u001b[0m \u001b[0;34m=\u001b[0m \u001b[0mi\u001b[0m\u001b[0;34m.\u001b[0m\u001b[0mtree\u001b[0m\u001b[0;34m(\u001b[0m\u001b[0;34m)\u001b[0m\u001b[0;34m\u001b[0m\u001b[0m\n\u001b[1;32m      5\u001b[0m \u001b[0;34m\u001b[0m\u001b[0m\n\u001b[0;32m----> 6\u001b[0;31m \u001b[0mnode1\u001b[0m \u001b[0;34m=\u001b[0m \u001b[0mtree\u001b[0m\u001b[0;34m.\u001b[0m\u001b[0mnodes\u001b[0m\u001b[0;34m[\u001b[0m\u001b[0me1\u001b[0m\u001b[0;34m[\u001b[0m\u001b[0;36m0\u001b[0m\u001b[0;34m]\u001b[0m\u001b[0;34m[\u001b[0m\u001b[0;36m0\u001b[0m\u001b[0;34m]\u001b[0m\u001b[0;34m]\u001b[0m\u001b[0;34m\u001b[0m\u001b[0m\n\u001b[0m\u001b[1;32m      7\u001b[0m \u001b[0mnode2\u001b[0m \u001b[0;34m=\u001b[0m \u001b[0mtree\u001b[0m\u001b[0;34m.\u001b[0m\u001b[0mnodes\u001b[0m\u001b[0;34m[\u001b[0m\u001b[0me2\u001b[0m\u001b[0;34m[\u001b[0m\u001b[0;36m0\u001b[0m\u001b[0;34m]\u001b[0m\u001b[0;34m[\u001b[0m\u001b[0;36m0\u001b[0m\u001b[0;34m]\u001b[0m\u001b[0;34m]\u001b[0m\u001b[0;34m\u001b[0m\u001b[0m\n\u001b[1;32m      8\u001b[0m \u001b[0;34m\u001b[0m\u001b[0m\n",
      "\u001b[0;31mAttributeError\u001b[0m: 'Tree' object has no attribute 'nodes'"
     ]
    }
   ],
   "source": [
    "lca_node = lca(tree, node1, node2)\n",
    "path1 = path_lca(tree, node1, lca_node)\n",
    "path2 = path_lca(tree, node2, lca_node)\n",
    "\n",
    "word_path1.append([p[\"word\"] for p in path1])\n",
    "word_path2.append([p[\"word\"] for p in path2])\n",
    "rel_path1.append([p[\"rel\"] for p in path1])\n",
    "rel_path2.append([p[\"rel\"] for p in path2])\n",
    "pos_path1.append([p[\"tag\"] for p in path1])\n",
    "pos_path2.append([p[\"tag\"] for p in path2])"
   ]
  },
  {
   "cell_type": "code",
   "execution_count": 601,
   "metadata": {
    "collapsed": true
   },
   "outputs": [],
   "source": [
    "sent = \"The factory 's products have included flower pots , Finnish rooster-whistles , pans , trays , tea pots , ash trays and air moisturisers .\""
   ]
  },
  {
   "cell_type": "code",
   "execution_count": 653,
   "metadata": {
    "collapsed": true
   },
   "outputs": [],
   "source": [
    "i = 0\n",
    "sent = sentences[i]"
   ]
  },
  {
   "cell_type": "code",
   "execution_count": 687,
   "metadata": {},
   "outputs": [
    {
     "data": {
      "text/plain": [
       "'The system as described above has its greatest application in an arrayed  configuration  of antenna  elements .'"
      ]
     },
     "execution_count": 687,
     "metadata": {},
     "output_type": "execute_result"
    }
   ],
   "source": [
    "sent"
   ]
  },
  {
   "cell_type": "code",
   "execution_count": 688,
   "metadata": {
    "collapsed": true
   },
   "outputs": [],
   "source": [
    "t = dep_parser.raw_parse(sent)\n",
    "for i in t:\n",
    "    a = i\n",
    "    trees = i.tree()"
   ]
  },
  {
   "cell_type": "code",
   "execution_count": 689,
   "metadata": {},
   "outputs": [
    {
     "data": {
      "image/png": "[encoded data removed]",
      "text/plain": [
       "Tree('has', [Tree('system', ['The', Tree('described', ['as', 'above'])]), Tree('application', ['its', 'greatest', Tree('configuration', ['in', 'an', 'arrayed', Tree('elements', ['of', 'antenna'])])])])"
      ]
     },
     "execution_count": 689,
     "metadata": {},
     "output_type": "execute_result"
    }
   ],
   "source": [
    "trees"
   ]
  },
  {
   "cell_type": "code",
   "execution_count": 691,
   "metadata": {
    "scrolled": true
   },
   "outputs": [
    {
     "name": "stdout",
     "output_type": "stream",
     "text": [
      "None 0\n",
      "The 1\n",
      "system 2\n",
      "as 3\n",
      "described 4\n",
      "above 5\n",
      "has 6\n",
      "its 7\n",
      "greatest 8\n",
      "application 9\n",
      "in 10\n",
      "an 11\n",
      "arrayed 12\n",
      "configuration 13\n",
      "of 14\n",
      "antenna 15\n",
      "elements 16\n"
     ]
    }
   ],
   "source": [
    "for i in a.nodes:\n",
    "    print(a.nodes[i]['word'], i)"
   ]
  },
  {
   "cell_type": "code",
   "execution_count": 658,
   "metadata": {},
   "outputs": [
    {
     "name": "stdout",
     "output_type": "stream",
     "text": [
      "defaultdict(<function DependencyGraph.__init__.<locals>.<lambda> at 0x7f61554197b8>,\n",
      "            {0: {'address': 0,\n",
      "                 'ctag': 'TOP',\n",
      "                 'deps': defaultdict(<class 'list'>, {'root': [6]}),\n",
      "                 'feats': None,\n",
      "                 'head': None,\n",
      "                 'lemma': None,\n",
      "                 'rel': None,\n",
      "                 'tag': 'TOP',\n",
      "                 'word': None},\n",
      "             1: {'address': 1,\n",
      "                 'ctag': 'DT',\n",
      "                 'deps': defaultdict(<class 'list'>, {}),\n",
      "                 'feats': '_',\n",
      "                 'head': 2,\n",
      "                 'lemma': '_',\n",
      "                 'rel': 'det',\n",
      "                 'tag': 'DT',\n",
      "                 'word': 'The'},\n",
      "             2: {'address': 2,\n",
      "                 'ctag': 'NN',\n",
      "                 'deps': defaultdict(<class 'list'>, {'det': [1], 'dep': [4]}),\n",
      "                 'feats': '_',\n",
      "                 'head': 6,\n",
      "                 'lemma': '_',\n",
      "                 'rel': 'nsubj',\n",
      "                 'tag': 'NN',\n",
      "                 'word': 'system'},\n",
      "             3: {'address': 3,\n",
      "                 'ctag': 'IN',\n",
      "                 'deps': defaultdict(<class 'list'>, {}),\n",
      "                 'feats': '_',\n",
      "                 'head': 4,\n",
      "                 'lemma': '_',\n",
      "                 'rel': 'mark',\n",
      "                 'tag': 'IN',\n",
      "                 'word': 'as'},\n",
      "             4: {'address': 4,\n",
      "                 'ctag': 'VBD',\n",
      "                 'deps': defaultdict(<class 'list'>,\n",
      "                                     {'advmod': [5],\n",
      "                                      'mark': [3]}),\n",
      "                 'feats': '_',\n",
      "                 'head': 2,\n",
      "                 'lemma': '_',\n",
      "                 'rel': 'dep',\n",
      "                 'tag': 'VBD',\n",
      "                 'word': 'described'},\n",
      "             5: {'address': 5,\n",
      "                 'ctag': 'RB',\n",
      "                 'deps': defaultdict(<class 'list'>, {}),\n",
      "                 'feats': '_',\n",
      "                 'head': 4,\n",
      "                 'lemma': '_',\n",
      "                 'rel': 'advmod',\n",
      "                 'tag': 'RB',\n",
      "                 'word': 'above'},\n",
      "             6: {'address': 6,\n",
      "                 'ctag': 'VBZ',\n",
      "                 'deps': defaultdict(<class 'list'>,\n",
      "                                     {'dobj': [9],\n",
      "                                      'nsubj': [2]}),\n",
      "                 'feats': '_',\n",
      "                 'head': 0,\n",
      "                 'lemma': '_',\n",
      "                 'rel': 'root',\n",
      "                 'tag': 'VBZ',\n",
      "                 'word': 'has'},\n",
      "             7: {'address': 7,\n",
      "                 'ctag': 'PRP$',\n",
      "                 'deps': defaultdict(<class 'list'>, {}),\n",
      "                 'feats': '_',\n",
      "                 'head': 9,\n",
      "                 'lemma': '_',\n",
      "                 'rel': 'nmod:poss',\n",
      "                 'tag': 'PRP$',\n",
      "                 'word': 'its'},\n",
      "             8: {'address': 8,\n",
      "                 'ctag': 'JJS',\n",
      "                 'deps': defaultdict(<class 'list'>, {}),\n",
      "                 'feats': '_',\n",
      "                 'head': 9,\n",
      "                 'lemma': '_',\n",
      "                 'rel': 'amod',\n",
      "                 'tag': 'JJS',\n",
      "                 'word': 'greatest'},\n",
      "             9: {'address': 9,\n",
      "                 'ctag': 'NN',\n",
      "                 'deps': defaultdict(<class 'list'>,\n",
      "                                     {'amod': [8],\n",
      "                                      'nmod': [13],\n",
      "                                      'nmod:poss': [7]}),\n",
      "                 'feats': '_',\n",
      "                 'head': 6,\n",
      "                 'lemma': '_',\n",
      "                 'rel': 'dobj',\n",
      "                 'tag': 'NN',\n",
      "                 'word': 'application'},\n",
      "             10: {'address': 10,\n",
      "                  'ctag': 'IN',\n",
      "                  'deps': defaultdict(<class 'list'>, {}),\n",
      "                  'feats': '_',\n",
      "                  'head': 13,\n",
      "                  'lemma': '_',\n",
      "                  'rel': 'case',\n",
      "                  'tag': 'IN',\n",
      "                  'word': 'in'},\n",
      "             11: {'address': 11,\n",
      "                  'ctag': 'DT',\n",
      "                  'deps': defaultdict(<class 'list'>, {}),\n",
      "                  'feats': '_',\n",
      "                  'head': 13,\n",
      "                  'lemma': '_',\n",
      "                  'rel': 'det',\n",
      "                  'tag': 'DT',\n",
      "                  'word': 'an'},\n",
      "             12: {'address': 12,\n",
      "                  'ctag': 'JJ',\n",
      "                  'deps': defaultdict(<class 'list'>, {}),\n",
      "                  'feats': '_',\n",
      "                  'head': 13,\n",
      "                  'lemma': '_',\n",
      "                  'rel': 'amod',\n",
      "                  'tag': 'JJ',\n",
      "                  'word': 'arrayed'},\n",
      "             13: {'address': 13,\n",
      "                  'ctag': 'NN',\n",
      "                  'deps': defaultdict(<class 'list'>,\n",
      "                                      {'amod': [12],\n",
      "                                       'case': [10],\n",
      "                                       'det': [11],\n",
      "                                       'nmod': [16]}),\n",
      "                  'feats': '_',\n",
      "                  'head': 9,\n",
      "                  'lemma': '_',\n",
      "                  'rel': 'nmod',\n",
      "                  'tag': 'NN',\n",
      "                  'word': 'configuration'},\n",
      "             14: {'address': 14,\n",
      "                  'ctag': 'IN',\n",
      "                  'deps': defaultdict(<class 'list'>, {}),\n",
      "                  'feats': '_',\n",
      "                  'head': 16,\n",
      "                  'lemma': '_',\n",
      "                  'rel': 'case',\n",
      "                  'tag': 'IN',\n",
      "                  'word': 'of'},\n",
      "             15: {'address': 15,\n",
      "                  'ctag': 'NN',\n",
      "                  'deps': defaultdict(<class 'list'>, {}),\n",
      "                  'feats': '_',\n",
      "                  'head': 16,\n",
      "                  'lemma': '_',\n",
      "                  'rel': 'compound',\n",
      "                  'tag': 'NN',\n",
      "                  'word': 'antenna'},\n",
      "             16: {'address': 16,\n",
      "                  'ctag': 'NNS',\n",
      "                  'deps': defaultdict(<class 'list'>,\n",
      "                                      {'case': [14],\n",
      "                                       'compound': [15]}),\n",
      "                  'feats': '_',\n",
      "                  'head': 13,\n",
      "                  'lemma': '_',\n",
      "                  'rel': 'nmod',\n",
      "                  'tag': 'NNS',\n",
      "                  'word': 'elements'}})\n"
     ]
    }
   ],
   "source": [
    "print(a)"
   ]
  },
  {
   "cell_type": "code",
   "execution_count": 659,
   "metadata": {
    "collapsed": true
   },
   "outputs": [],
   "source": [
    "tree = a\n",
    "node1 = tree.nodes[e1[i][0]]\n",
    "node2 = tree.nodes[e2[i][0]]"
   ]
  },
  {
   "cell_type": "code",
   "execution_count": 660,
   "metadata": {
    "collapsed": true
   },
   "outputs": [],
   "source": [
    "lca_node = lca(tree, node1, node2)"
   ]
  },
  {
   "cell_type": "code",
   "execution_count": 661,
   "metadata": {
    "collapsed": true,
    "scrolled": true
   },
   "outputs": [],
   "source": [
    "lca_node = lca(tree, node1, node2)\n",
    "path1 = path_lca(tree, node1, lca_node)\n",
    "path2 = path_lca(tree, node2, lca_node)"
   ]
  },
  {
   "cell_type": "code",
   "execution_count": 662,
   "metadata": {
    "collapsed": true
   },
   "outputs": [],
   "source": []
  },
  {
   "cell_type": "code",
   "execution_count": 663,
   "metadata": {},
   "outputs": [
    {
     "data": {
      "text/plain": [
       "[{'address': 1,\n",
       "  'ctag': 'DT',\n",
       "  'deps': defaultdict(list, {}),\n",
       "  'feats': '_',\n",
       "  'head': 2,\n",
       "  'lemma': '_',\n",
       "  'rel': 'det',\n",
       "  'tag': 'DT',\n",
       "  'word': 'The'},\n",
       " {'address': 2,\n",
       "  'ctag': 'NN',\n",
       "  'deps': defaultdict(list, {'dep': [4], 'det': [1]}),\n",
       "  'feats': '_',\n",
       "  'head': 6,\n",
       "  'lemma': '_',\n",
       "  'rel': 'nsubj',\n",
       "  'tag': 'NN',\n",
       "  'word': 'system'},\n",
       " {'address': 6,\n",
       "  'ctag': 'VBZ',\n",
       "  'deps': defaultdict(list, {'dobj': [9], 'nsubj': [2]}),\n",
       "  'feats': '_',\n",
       "  'head': 0,\n",
       "  'lemma': '_',\n",
       "  'rel': 'root',\n",
       "  'tag': 'VBZ',\n",
       "  'word': 'has'}]"
      ]
     },
     "execution_count": 663,
     "metadata": {},
     "output_type": "execute_result"
    }
   ],
   "source": [
    "path1"
   ]
  },
  {
   "cell_type": "code",
   "execution_count": 664,
   "metadata": {
    "scrolled": true
   },
   "outputs": [
    {
     "data": {
      "text/plain": [
       "[{'address': 7,\n",
       "  'ctag': 'PRP$',\n",
       "  'deps': defaultdict(list, {}),\n",
       "  'feats': '_',\n",
       "  'head': 9,\n",
       "  'lemma': '_',\n",
       "  'rel': 'nmod:poss',\n",
       "  'tag': 'PRP$',\n",
       "  'word': 'its'},\n",
       " {'address': 9,\n",
       "  'ctag': 'NN',\n",
       "  'deps': defaultdict(list, {'amod': [8], 'nmod': [13], 'nmod:poss': [7]}),\n",
       "  'feats': '_',\n",
       "  'head': 6,\n",
       "  'lemma': '_',\n",
       "  'rel': 'dobj',\n",
       "  'tag': 'NN',\n",
       "  'word': 'application'},\n",
       " {'address': 6,\n",
       "  'ctag': 'VBZ',\n",
       "  'deps': defaultdict(list, {'dobj': [9], 'nsubj': [2]}),\n",
       "  'feats': '_',\n",
       "  'head': 0,\n",
       "  'lemma': '_',\n",
       "  'rel': 'root',\n",
       "  'tag': 'VBZ',\n",
       "  'word': 'has'}]"
      ]
     },
     "execution_count": 664,
     "metadata": {},
     "output_type": "execute_result"
    }
   ],
   "source": [
    "path2"
   ]
  },
  {
   "cell_type": "code",
   "execution_count": 665,
   "metadata": {
    "collapsed": true
   },
   "outputs": [],
   "source": [
    "word_path1 = [p[\"word\"] for p in path1]\n",
    "word_path2 = [p[\"word\"] for p in path2]\n",
    "rel_path1 = [p[\"rel\"] for p in path1]\n",
    "rel_path2 = [p[\"rel\"] for p in path2]\n",
    "pos_path1 = [p[\"tag\"] for p in path1]\n",
    "pos_path2 = [p[\"tag\"] for p in path2]"
   ]
  },
  {
   "cell_type": "code",
   "execution_count": 666,
   "metadata": {},
   "outputs": [
    {
     "data": {
      "text/plain": [
       "(['The', 'system', 'has'], ['det', 'nsubj', 'root'], ['DT', 'NN', 'VBZ'])"
      ]
     },
     "execution_count": 666,
     "metadata": {},
     "output_type": "execute_result"
    }
   ],
   "source": [
    "word_path1, rel_path1, pos_path1"
   ]
  },
  {
   "cell_type": "code",
   "execution_count": 667,
   "metadata": {},
   "outputs": [
    {
     "data": {
      "text/plain": [
       "['nmod:poss', 'dobj', 'root']"
      ]
     },
     "execution_count": 667,
     "metadata": {},
     "output_type": "execute_result"
    }
   ],
   "source": [
    "rel_path2"
   ]
  },
  {
   "cell_type": "code",
   "execution_count": 66,
   "metadata": {
    "collapsed": true
   },
   "outputs": [],
   "source": [
    "t = dep_parser.raw_parse(sent)"
   ]
  },
  {
   "cell_type": "code",
   "execution_count": 67,
   "metadata": {
    "collapsed": true
   },
   "outputs": [],
   "source": [
    "a = []\n",
    "for p in t:\n",
    "    for i in range(10):\n",
    "        a.append(p._tree(i))"
   ]
  },
  {
   "cell_type": "code",
   "execution_count": 68,
   "metadata": {},
   "outputs": [
    {
     "data": {
      "text/plain": [
       "[Tree(None, [Tree('submitted', [Tree('Dependencies', [Tree('Bills', ['for', Tree('ports', ['on', 'and', 'immigration'])])]), 'were', Tree('Brownback', ['by', 'Senator', Tree('Republican', [Tree('Kansas', ['of'])])])])]),\n",
       " Tree('Dependencies', [Tree('Bills', ['for', Tree('ports', ['on', 'and', 'immigration'])])]),\n",
       " 'for',\n",
       " Tree('Bills', ['for', Tree('ports', ['on', 'and', 'immigration'])]),\n",
       " 'on',\n",
       " Tree('ports', ['on', 'and', 'immigration']),\n",
       " 'and',\n",
       " 'immigration',\n",
       " 'were',\n",
       " Tree('submitted', [Tree('Dependencies', [Tree('Bills', ['for', Tree('ports', ['on', 'and', 'immigration'])])]), 'were', Tree('Brownback', ['by', 'Senator', Tree('Republican', [Tree('Kansas', ['of'])])])])]"
      ]
     },
     "execution_count": 68,
     "metadata": {},
     "output_type": "execute_result"
    }
   ],
   "source": [
    "a"
   ]
  },
  {
   "cell_type": "code",
   "execution_count": 98,
   "metadata": {},
   "outputs": [
    {
     "name": "stdout",
     "output_type": "stream",
     "text": [
      "(submitted\n",
      "  (Bills (ports on and immigration))\n",
      "  were\n",
      "  (Brownback by Senator (Republican (Kansas of))))\n"
     ]
    }
   ],
   "source": [
    "for p in t:\n",
    "    print(p.tree())"
   ]
  },
  {
   "cell_type": "code",
   "execution_count": 99,
   "metadata": {},
   "outputs": [
    {
     "name": "stdout",
     "output_type": "stream",
     "text": [
      "[Tree('submitted', [Tree('Bills', [Tree('ports', ['on', 'and', 'immigration'])]), 'were', Tree('Brownback', ['by', 'Senator', Tree('Republican', [Tree('Kansas', ['of'])])])])]\n"
     ]
    }
   ],
   "source": [
    "print ([parse.tree() for parse in dep_parser.raw_parse(sent)])"
   ]
  },
  {
   "cell_type": "code",
   "execution_count": 76,
   "metadata": {},
   "outputs": [
    {
     "data": {
      "text/plain": [
       "[[(('submitted', 'VBN'), 'nsubjpass', ('Bills', 'NNS')),\n",
       "  (('Bills', 'NNS'), 'nmod', ('ports', 'NNS')),\n",
       "  (('ports', 'NNS'), 'case', ('on', 'IN')),\n",
       "  (('ports', 'NNS'), 'cc', ('and', 'CC')),\n",
       "  (('ports', 'NNS'), 'conj', ('immigration', 'NN')),\n",
       "  (('submitted', 'VBN'), 'auxpass', ('were', 'VBD')),\n",
       "  (('submitted', 'VBN'), 'nmod', ('Brownback', 'NNP')),\n",
       "  (('Brownback', 'NNP'), 'case', ('by', 'IN')),\n",
       "  (('Brownback', 'NNP'), 'compound', ('Senator', 'NNP')),\n",
       "  (('Brownback', 'NNP'), 'appos', ('Republican', 'NNP')),\n",
       "  (('Republican', 'NNP'), 'nmod', ('Kansas', 'NNP')),\n",
       "  (('Kansas', 'NNP'), 'case', ('of', 'IN'))]]"
      ]
     },
     "execution_count": 76,
     "metadata": {},
     "output_type": "execute_result"
    }
   ],
   "source": [
    "[list(parse.triples()) for parse in dep_parser.raw_parse(sent)]"
   ]
  },
  {
   "cell_type": "code",
   "execution_count": 11,
   "metadata": {
    "collapsed": true
   },
   "outputs": [],
   "source": [
    "# POS TAGGER\n",
    "from nltk.tag.stanford import StanfordPOSTagger\n",
    "path_to_model = \"/home/shanu/nltk/jars/english-bidirectional-distsim.tagger\"\n",
    "path_to_jar = \"/home/shanu/nltk/jars/stanford-postagger.jar\"\n",
    "tagger=StanfordPOSTagger(path_to_model, path_to_jar)"
   ]
  },
  {
   "cell_type": "code",
   "execution_count": 529,
   "metadata": {
    "collapsed": true
   },
   "outputs": [],
   "source": [
    "sentence = 'The quick brown fox jumps over the lazy dog'\n",
    "pos = tagger.tag(sent.split())"
   ]
  },
  {
   "cell_type": "code",
   "execution_count": 530,
   "metadata": {},
   "outputs": [
    {
     "data": {
      "text/plain": [
       "'NNS'"
      ]
     },
     "execution_count": 530,
     "metadata": {},
     "output_type": "execute_result"
    }
   ],
   "source": [
    "pos[0][1]"
   ]
  },
  {
   "cell_type": "code",
   "execution_count": 531,
   "metadata": {},
   "outputs": [
    {
     "data": {
      "text/plain": [
       "[('Bills', 'NNS'),\n",
       " ('on', 'IN'),\n",
       " ('ports', 'NNS'),\n",
       " ('and', 'CC'),\n",
       " ('immigration', 'NN'),\n",
       " ('were', 'VBD'),\n",
       " ('submitted', 'VBN'),\n",
       " ('by', 'IN'),\n",
       " ('Senator', 'NNP'),\n",
       " ('Brownback,', 'NNP'),\n",
       " ('Republican', 'NNP'),\n",
       " ('of', 'IN'),\n",
       " ('Kansas', 'NNP')]"
      ]
     },
     "execution_count": 531,
     "metadata": {},
     "output_type": "execute_result"
    }
   ],
   "source": [
    "pos"
   ]
  },
  {
   "cell_type": "code",
   "execution_count": null,
   "metadata": {
    "collapsed": true
   },
   "outputs": [],
   "source": []
  }
 ],
 "metadata": {
  "kernelspec": {
   "display_name": "Python 3",
   "language": "python",
   "name": "python3"
  },
  "language_info": {
   "codemirror_mode": {
    "name": "ipython",
    "version": 3
   },
   "file_extension": ".py",
   "mimetype": "text/x-python",
   "name": "python",
   "nbconvert_exporter": "python",
   "pygments_lexer": "ipython3",
   "version": "3.5.2"
  }
 },
 "nbformat": 4,
 "nbformat_minor": 2
}

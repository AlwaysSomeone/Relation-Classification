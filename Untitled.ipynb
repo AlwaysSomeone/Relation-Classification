{
 "cells": [
  {
   "cell_type": "code",
   "execution_count": 38,
   "metadata": {
    "collapsed": true
   },
   "outputs": [],
   "source": [
    "import tensorflow as tf"
   ]
  },
  {
   "cell_type": "code",
   "execution_count": 39,
   "metadata": {
    "collapsed": true
   },
   "outputs": [],
   "source": [
    "inputs = tf.placeholder(tf.float32, [2, None])\n",
    "steps = tf.placeholder(tf.int32)\n",
    "i = tf.constant(0)"
   ]
  },
  {
   "cell_type": "code",
   "execution_count": 40,
   "metadata": {
    "collapsed": true
   },
   "outputs": [],
   "source": [
    "lists = []"
   ]
  },
  {
   "cell_type": "code",
   "execution_count": 41,
   "metadata": {
    "collapsed": true
   },
   "outputs": [],
   "source": [
    "for b in range(2):\n",
    "    l = tf.Variable([])\n",
    "#     steps = tf.shape(inputs[b])[0]\n",
    "    def cond(i,j,l):\n",
    "       return i < steps\n",
    "    def body(i, j, l):     \n",
    "        temp = tf.gather(inputs[b],i)\n",
    "        l = tf.concat([l, [temp]], 0)\n",
    "    #     l.append(inputs[i])\n",
    "        return i+1, j, l\n",
    "\n",
    "    index, _, list_vals = tf.while_loop(cond, body, [i,i, l], shape_invariants=[i.get_shape(), i.get_shape(), tf.TensorShape([None])])\n",
    "    lists.append(list_vals)"
   ]
  },
  {
   "cell_type": "code",
   "execution_count": 42,
   "metadata": {
    "collapsed": true
   },
   "outputs": [],
   "source": [
    "# l = tf.Variable([])\n",
    "# array = tf.Variable(tf.random_normal([10]))\n",
    "# steps = tf.shape(inputs)[0]\n",
    "# def cond(i,j,l):\n",
    "#    return i < steps\n",
    "# def body(i, j, l):     \n",
    "#     temp = tf.gather(inputs,i)\n",
    "#     l = tf.concat([l, [temp]], 0)\n",
    "# #     l.append(inputs[i])\n",
    "#     return i+1, j, l\n",
    "\n",
    "# index, _, list_vals = tf.while_loop(cond, body, [i,i, l], shape_invariants=[i.get_shape(), i.get_shape(), tf.TensorShape([None])])"
   ]
  },
  {
   "cell_type": "code",
   "execution_count": 43,
   "metadata": {
    "collapsed": true
   },
   "outputs": [],
   "source": [
    "sess = tf.Session()\n",
    "sess.run(tf.global_variables_initializer())"
   ]
  },
  {
   "cell_type": "code",
   "execution_count": 44,
   "metadata": {
    "collapsed": true
   },
   "outputs": [],
   "source": [
    "import numpy as np"
   ]
  },
  {
   "cell_type": "code",
   "execution_count": 45,
   "metadata": {
    "collapsed": true
   },
   "outputs": [],
   "source": [
    "inp = np.array([[1,2,3,4], [10, 20, 30, 40]])"
   ]
  },
  {
   "cell_type": "code",
   "execution_count": 49,
   "metadata": {},
   "outputs": [
    {
     "data": {
      "text/plain": [
       "[array([], dtype=float32), array([], dtype=float32)]"
      ]
     },
     "execution_count": 49,
     "metadata": {},
     "output_type": "execute_result"
    }
   ],
   "source": [
    "sess.run(lists, {inputs:inp, steps:0})"
   ]
  },
  {
   "cell_type": "code",
   "execution_count": 2,
   "metadata": {
    "collapsed": true
   },
   "outputs": [],
   "source": [
    "const = tf.zeros([1, 10])"
   ]
  },
  {
   "cell_type": "code",
   "execution_count": 6,
   "metadata": {
    "collapsed": true
   },
   "outputs": [],
   "source": [
    "W_i = tf.get_variable(\"W_i\", shape=[100, 10], initializer=tf.contrib.layers.xavier_initializer())\n",
    "U_i1 = tf.get_variable(\"U_i1\", shape=[10, 10], initializer=tf.contrib.layers.xavier_initializer())\n",
    "U_i2 = tf.get_variable(\"U_i2\", shape=[10, 10], initializer=tf.contrib.layers.xavier_initializer())\n",
    "b_i = tf.get_variable(\"b_i\", initializer=const)"
   ]
  },
  {
   "cell_type": "code",
   "execution_count": 7,
   "metadata": {
    "collapsed": true
   },
   "outputs": [],
   "source": [
    "W_f= tf.get_variable(\"W_f\", shape=[100, 10], initializer=tf.contrib.layers.xavier_initializer())\n",
    "U_f1 = tf.get_variable(\"U_f1\", shape=[10, 10], initializer=tf.contrib.layers.xavier_initializer())\n",
    "U_f2 = tf.get_variable(\"U_f2\", shape=[10, 10], initializer=tf.contrib.layers.xavier_initializer())\n",
    "b_f= tf.get_variable(\"b_f\", initializer=const)"
   ]
  },
  {
   "cell_type": "code",
   "execution_count": 8,
   "metadata": {
    "collapsed": true
   },
   "outputs": [],
   "source": [
    "W_o = tf.get_variable(\"W_o\", shape=[100, 10], initializer=tf.contrib.layers.xavier_initializer())\n",
    "U_o1 = tf.get_variable(\"U_o1\", shape=[10, 10], initializer=tf.contrib.layers.xavier_initializer())\n",
    "U_o2 = tf.get_variable(\"U_o2\", shape=[10, 10], initializer=tf.contrib.layers.xavier_initializer())\n",
    "b_o = tf.get_variable(\"b_o\", initializer=const)"
   ]
  },
  {
   "cell_type": "code",
   "execution_count": 10,
   "metadata": {
    "collapsed": true
   },
   "outputs": [],
   "source": [
    "x = tf.placeholder(tf.float32, [1, 100])\n",
    "child = tf.placeholder(tf.int32, [None])"
   ]
  },
  {
   "cell_type": "code",
   "execution_count": 11,
   "metadata": {
    "collapsed": true
   },
   "outputs": [],
   "source": [
    "h = tf.Variable(tf.ones([5, 1, 10]), dtype= tf.float32)"
   ]
  },
  {
   "cell_type": "code",
   "execution_count": 12,
   "metadata": {
    "collapsed": true
   },
   "outputs": [],
   "source": [
    "num_child = tf.shape(child)[0]\n",
    "init = tf.zeros([1, 10])\n",
    "\n",
    "i = tf.constant(0)\n",
    "def cond(i, *args):\n",
    "    return i< num_child\n",
    "\n",
    "def body(i, temp, U):\n",
    "    temp +=tf.matmul(tf.gather(h, child[i]), U)\n",
    "    return i+1, temp, U\n",
    "index, , _ = tf.while_loop(cond, body, [i, init, U_i2])"
   ]
  },
  {
   "cell_type": "code",
   "execution_count": 21,
   "metadata": {
    "collapsed": true
   },
   "outputs": [],
   "source": [
    "import numpy as np"
   ]
  },
  {
   "cell_type": "code",
   "execution_count": 22,
   "metadata": {
    "collapsed": true
   },
   "outputs": [],
   "source": [
    "input_x = np.ones((1, 100))"
   ]
  },
  {
   "cell_type": "code",
   "execution_count": 24,
   "metadata": {},
   "outputs": [
    {
     "data": {
      "text/plain": [
       "array([[ 4.33002663, -5.37823391, -4.6219573 , -0.57539016, -1.15721631,\n",
       "        -2.74891329,  2.12583399,  2.83900619,  0.9222703 ,  0.5790714 ]], dtype=float32)"
      ]
     },
     "execution_count": 24,
     "metadata": {},
     "output_type": "execute_result"
    }
   ],
   "source": [
    "sess.run(tf.global_variables_initializer())\n",
    "sess.run(it, {x:input_x, child:[0,2,3]})"
   ]
  },
  {
   "cell_type": "code",
   "execution_count": null,
   "metadata": {
    "collapsed": true
   },
   "outputs": [],
   "source": []
  }
 ],
 "metadata": {
  "kernelspec": {
   "display_name": "Python 3",
   "language": "python",
   "name": "python3"
  },
  "language_info": {
   "codemirror_mode": {
    "name": "ipython",
    "version": 3
   },
   "file_extension": ".py",
   "mimetype": "text/x-python",
   "name": "python",
   "nbconvert_exporter": "python",
   "pygments_lexer": "ipython3",
   "version": "3.5.2"
  }
 },
 "nbformat": 4,
 "nbformat_minor": 2
}
